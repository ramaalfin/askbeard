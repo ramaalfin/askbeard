{
 "cells": [
  {
   "cell_type": "markdown",
   "metadata": {},
   "source": [
    "# Dasar Python"
   ]
  },
  {
   "cell_type": "markdown",
   "metadata": {},
   "source": [
    "#### 1. Statement\n",
    "-  print statement"
   ]
  },
  {
   "cell_type": "code",
   "execution_count": 3,
   "metadata": {
    "scrolled": true
   },
   "outputs": [
    {
     "name": "stdout",
     "output_type": "stream",
     "text": [
      "Hello World!\n"
     ]
    }
   ],
   "source": [
    "print(\"Hello World!\")"
   ]
  },
  {
   "cell_type": "code",
   "execution_count": 4,
   "metadata": {},
   "outputs": [
    {
     "data": {
      "text/plain": [
       "str"
      ]
     },
     "execution_count": 4,
     "metadata": {},
     "output_type": "execute_result"
    }
   ],
   "source": [
    "a = \"Heloow world\"\n",
    "type(a)"
   ]
  },
  {
   "cell_type": "markdown",
   "metadata": {},
   "source": [
    "#### 2. Types\n",
    "- ** int **\n",
    "    - int stands for integer.\n",
    "    - Berupa bilangan bulat, dapat berupa nilai positif maupun negatif.\n",
    "    - Terdapat batasan range nilai pada int, bisa disesuaikan dengan kebutuhan.\n",
    "    <br>\n",
    "    <img src=\"https://image01.ipracticemath.com/content/imageslm/integer/integers.png\" style=\"width: 400px\"/>\n",
    "    <center> **Integer** </center>"
   ]
  },
  {
   "cell_type": "markdown",
   "metadata": {},
   "source": [
    "- **float**\n",
    "    - float stands for float.\n",
    "    - float pada dasarnya adalah bilangan asli (real numbers).\n",
    "    - float mengandung integer dan nilai di antara integers.\n",
    "    - mudahnya, float merupakan pecahan atau bilangan desimal.\n",
    "    <br>\n",
    "    <img src=\"http://limaglobal.com/wp-content/uploads/2015/09/r21.jpg\" style=\"width: 400px\"/>\n",
    "    <center> **float** </center>"
   ]
  },
  {
   "cell_type": "markdown",
   "metadata": {},
   "source": [
    "- **str**\n",
    "    - str stands for string.\n",
    "    - string adalah kumpulan dari suatu karakter.\n",
    "    - umumnya, menggunakan tanda petik untuk mendefinisikan bahwa tipe datanya adalah string.\n",
    "    <br>\n",
    "    <img src=\"https://s1.o7planning.com/en/11423/images/7674641.png\" style=\"width: 200px\"/>\n",
    "    <center> **string** </center>    "
   ]
  },
  {
   "cell_type": "code",
   "execution_count": 18,
   "metadata": {},
   "outputs": [
    {
     "data": {
      "text/plain": [
       "str"
      ]
     },
     "execution_count": 18,
     "metadata": {},
     "output_type": "execute_result"
    }
   ],
   "source": [
    "string = 'Hello world'\n",
    "type(string)"
   ]
  },
  {
   "cell_type": "markdown",
   "metadata": {},
   "source": [
    "- **boolean**\n",
    "    - mengandung dua nilai : True dan False\n",
    "    - True = 1\n",
    "    - False = 0\n",
    "    - Biasanya disingkat dengan 'bool'"
   ]
  },
  {
   "cell_type": "code",
   "execution_count": 20,
   "metadata": {},
   "outputs": [
    {
     "data": {
      "text/plain": [
       "False"
      ]
     },
     "execution_count": 20,
     "metadata": {},
     "output_type": "execute_result"
    }
   ],
   "source": [
    "#bool(1)\n",
    "#int(True)\n",
    "bool(0)"
   ]
  },
  {
   "cell_type": "code",
   "execution_count": 5,
   "metadata": {},
   "outputs": [
    {
     "data": {
      "text/plain": [
       "bool"
      ]
     },
     "execution_count": 5,
     "metadata": {},
     "output_type": "execute_result"
    }
   ],
   "source": [
    "a = True\n",
    "type(a)"
   ]
  },
  {
   "cell_type": "markdown",
   "metadata": {},
   "source": [
    "<br>\n",
    "#### 3. Expressions dan Variables\n",
    "- **Expressions**\n",
    "    - expressions mendeskripsikan tipe dari operasi matematika yang digunakan.\n",
    "    - expressions = operasi matematika."
   ]
  },
  {
   "cell_type": "code",
   "execution_count": 9,
   "metadata": {},
   "outputs": [
    {
     "data": {
      "text/plain": [
       "1"
      ]
     },
     "execution_count": 9,
     "metadata": {},
     "output_type": "execute_result"
    }
   ],
   "source": [
    "##penjumlahan\n",
    "#a = 1+2\n",
    "##pengurangan\n",
    "#b = 2-1\n",
    "##perkalian\n",
    "#c = 2*2\n",
    "##pembagian\n",
    "#d = 10/4\n",
    "#d1 = 10//4\n",
    "a = 2\n",
    "b = 3\n",
    "b//a"
   ]
  },
  {
   "cell_type": "markdown",
   "metadata": {},
   "source": [
    "- **Matrix**"
   ]
  },
  {
   "cell_type": "code",
   "execution_count": 12,
   "metadata": {},
   "outputs": [
    {
     "name": "stdout",
     "output_type": "stream",
     "text": [
      "Hasil perhitungan matrixnya adalah: \n",
      " [[ 4  4  4]\n",
      " [12 12 12]\n",
      " [18 18 18]]\n"
     ]
    }
   ],
   "source": [
    "import numpy as np\n",
    "matrix_a = np.array([[1,2,3], [5,6,7], [8,9,10]])\n",
    "matrix_b = np.array([[3,2,1], [7,6,5], [10,9,8]])\n",
    "\n",
    "#penjumlahan\n",
    "matrix_c = matrix_a + matrix_b\n",
    "\n",
    "#pengurangan\n",
    "#matrix_d = matrix_a - matrix_b\n",
    "\n",
    "#dot product\n",
    "#matrix_e = np.dot(matrix_a, matrix_b)\n",
    "\n",
    "#transpose matrix\n",
    "#matrix_f = matrix_a.T\n",
    "\n",
    "print(\"Hasil perhitungan matrixnya adalah: \\n\", matrix_c)"
   ]
  },
  {
   "cell_type": "markdown",
   "metadata": {},
   "source": [
    "<br>\n",
    "- **Variables**\n",
    "    - Variabel digunakan untuk menyimpan suatu informasi/nilai.\n",
    "    - sehingga kita dapat menggunakan nilai tersebut di manapun (kodingan) dengan hanya menulis nama variabelnya."
   ]
  },
  {
   "cell_type": "code",
   "execution_count": 20,
   "metadata": {},
   "outputs": [
    {
     "name": "stdout",
     "output_type": "stream",
     "text": [
      "0.05\n"
     ]
    }
   ],
   "source": [
    "##contoh penggunaan variabel\n",
    "x = 1\n",
    "t = 20\n",
    "y = x/t\n",
    "print(y)"
   ]
  },
  {
   "cell_type": "markdown",
   "metadata": {},
   "source": [
    "\n",
    "#### 4. Lists dan Tuples (compound data type)\n",
    "- **Tuple**\n",
    "    - bersifat **immutable**.\n",
    "    - menggunakan tanda kurung () dan tanda koma (,).\n",
    "    - element pada tuple dapat berupa integer, float, dan str. Akan tetapi, type variabelnya adalah tuple."
   ]
  },
  {
   "cell_type": "code",
   "execution_count": 11,
   "metadata": {},
   "outputs": [
    {
     "data": {
      "text/plain": [
       "tuple"
      ]
     },
     "execution_count": 11,
     "metadata": {},
     "output_type": "execute_result"
    }
   ],
   "source": [
    "#Tuple\n",
    "#mobil = ('honda', 29, 'toyota', 31, 'hello word 14', 33, 33.5, 34, 35, 36)\n",
    "mobil = ('honda', 'toyota', 'nissan', 4, 4.90585)\n",
    "#mobil\n",
    "type(mobil)"
   ]
  },
  {
   "cell_type": "code",
   "execution_count": 28,
   "metadata": {},
   "outputs": [
    {
     "data": {
      "text/plain": [
       "'nissan'"
      ]
     },
     "execution_count": 28,
     "metadata": {},
     "output_type": "execute_result"
    }
   ],
   "source": [
    "#Akses element pada tuple menggunakan indeks\n",
    "mobil[2]"
   ]
  },
  {
   "cell_type": "code",
   "execution_count": 31,
   "metadata": {},
   "outputs": [
    {
     "name": "stdout",
     "output_type": "stream",
     "text": [
      "('Honda', 0.34282, 'Toyota', 'suzuki', 38, 'daihatsu')\n"
     ]
    }
   ],
   "source": [
    "#menambah tuple dengan tuple\n",
    "tuple1 = ('Honda', 0.34282, 'Toyota')\n",
    "tuple2 = ('suzuki', 38, 'daihatsu')\n",
    "tuple3 = tuple1 + tuple2\n",
    "print(tuple3)\n",
    "#tuple3[2]"
   ]
  },
  {
   "cell_type": "code",
   "execution_count": 38,
   "metadata": {},
   "outputs": [
    {
     "data": {
      "text/plain": [
       "('honda', 29, 'toyota', 31)"
      ]
     },
     "execution_count": 38,
     "metadata": {},
     "output_type": "execute_result"
    }
   ],
   "source": [
    "#Akses element menggunakan range index pada tuple\n",
    "tuple3[0:4]"
   ]
  },
  {
   "cell_type": "code",
   "execution_count": 39,
   "metadata": {},
   "outputs": [
    {
     "data": {
      "text/plain": [
       "13"
      ]
     },
     "execution_count": 39,
     "metadata": {},
     "output_type": "execute_result"
    }
   ],
   "source": [
    "#len command untuk melihat panjang dari tuple\n",
    "len(tuple3)"
   ]
  },
  {
   "cell_type": "code",
   "execution_count": 48,
   "metadata": {},
   "outputs": [
    {
     "data": {
      "text/plain": [
       "[1, 2, 3, 4, 5, 6, 7, 8]"
      ]
     },
     "execution_count": 48,
     "metadata": {},
     "output_type": "execute_result"
    }
   ],
   "source": [
    "#mengurutkan element pada tuple menggunakan fungsi sorted\n",
    "tuple5 = (5,2,7,4,1,6,3,8)\n",
    "tupleSorted = sorted(tuple5)\n",
    "tupleSorted"
   ]
  },
  {
   "cell_type": "markdown",
   "metadata": {},
   "source": [
    "<br>\n",
    "- **List**\n",
    "    - menggunakan tanda kurung kotak [] dan tanda koma (,).\n",
    "    - List sama seperti tuple, hanya saja list bersifat **mutable**.\n",
    "    - Artinya, element pada list dapat diubah dan dihapus."
   ]
  },
  {
   "cell_type": "code",
   "execution_count": 32,
   "metadata": {},
   "outputs": [
    {
     "data": {
      "text/plain": [
       "list"
      ]
     },
     "execution_count": 32,
     "metadata": {},
     "output_type": "execute_result"
    }
   ],
   "source": [
    "#List\n",
    "list1 = ['honda', 29, 'toyota', 31, 'hello word 14', 33, 33.5, 34, 35, 36]\n",
    "type(list1)"
   ]
  },
  {
   "cell_type": "code",
   "execution_count": 33,
   "metadata": {},
   "outputs": [
    {
     "data": {
      "text/plain": [
       "'honda'"
      ]
     },
     "execution_count": 33,
     "metadata": {},
     "output_type": "execute_result"
    }
   ],
   "source": [
    "#Akses element pada list menggunakan indeks\n",
    "list1[0]"
   ]
  },
  {
   "cell_type": "code",
   "execution_count": 34,
   "metadata": {},
   "outputs": [
    {
     "data": {
      "text/plain": [
       "['honda', 29, 'toyota', 31, 'hello word 14', 33]"
      ]
     },
     "execution_count": 34,
     "metadata": {},
     "output_type": "execute_result"
    }
   ],
   "source": [
    "#Akses element menggunakan range index pada list\n",
    "list1[0:6]"
   ]
  },
  {
   "cell_type": "code",
   "execution_count": 12,
   "metadata": {},
   "outputs": [
    {
     "data": {
      "text/plain": [
       "['sekolah', 'mobil', 'rumah', 'garasi', 2, 3]"
      ]
     },
     "execution_count": 12,
     "metadata": {},
     "output_type": "execute_result"
    }
   ],
   "source": [
    "#extend list\n",
    "\n",
    "L = ['sekolah', 'mobil', 'rumah']\n",
    "L.extend(['garasi', 2, 3])\n",
    "L"
   ]
  },
  {
   "cell_type": "code",
   "execution_count": 38,
   "metadata": {},
   "outputs": [
    {
     "data": {
      "text/plain": [
       "['sekolah', 'mobil', 'rumah', 1, 2, 3, ['taman', 'garasi']]"
      ]
     },
     "execution_count": 38,
     "metadata": {},
     "output_type": "execute_result"
    }
   ],
   "source": [
    "#append list\n",
    "L.append(['taman', 'garasi'])\n",
    "L"
   ]
  },
  {
   "cell_type": "code",
   "execution_count": 39,
   "metadata": {},
   "outputs": [
    {
     "data": {
      "text/plain": [
       "['taman', 'garasi']"
      ]
     },
     "execution_count": 39,
     "metadata": {},
     "output_type": "execute_result"
    }
   ],
   "source": [
    "L[6]"
   ]
  },
  {
   "cell_type": "code",
   "execution_count": 40,
   "metadata": {},
   "outputs": [
    {
     "data": {
      "text/plain": [
       "['sekolah dasar', 'mobil', 'rumah', 1, 2, 3, ['taman', 'garasi']]"
      ]
     },
     "execution_count": 40,
     "metadata": {},
     "output_type": "execute_result"
    }
   ],
   "source": [
    "#mengganti element di dalam list\n",
    "L[0] = 'sekolah dasar'\n",
    "L"
   ]
  },
  {
   "cell_type": "code",
   "execution_count": 77,
   "metadata": {},
   "outputs": [
    {
     "data": {
      "text/plain": [
       "['mobil', 'rumah', 1, 2, 3, ['taman', 'garasi']]"
      ]
     },
     "execution_count": 77,
     "metadata": {},
     "output_type": "execute_result"
    }
   ],
   "source": [
    "#menghapus element di dalam list\n",
    "del(L[0])\n",
    "L"
   ]
  },
  {
   "cell_type": "code",
   "execution_count": 82,
   "metadata": {},
   "outputs": [
    {
     "data": {
      "text/plain": [
       "['pagi', ' siang', ' sore', ' malam']"
      ]
     },
     "execution_count": 82,
     "metadata": {},
     "output_type": "execute_result"
    }
   ],
   "source": [
    "#convert string --> list\n",
    "conv1 = 'sekolah dasar computer science'.split()\n",
    "conv2 = 'pagi, siang, sore, malam'.split(',')\n",
    "conv2"
   ]
  },
  {
   "cell_type": "code",
   "execution_count": 41,
   "metadata": {},
   "outputs": [
    {
     "data": {
      "text/plain": [
       "['jendela', ' garasi', ' pintu']"
      ]
     },
     "execution_count": 41,
     "metadata": {},
     "output_type": "execute_result"
    }
   ],
   "source": [
    "rumah = \"jendela, garasi, pintu\"\n",
    "rumah.split(',')"
   ]
  },
  {
   "cell_type": "code",
   "execution_count": 45,
   "metadata": {},
   "outputs": [],
   "source": [
    "#aliasing pada list\n",
    "list_a = ['apple', 'orange', 'avocado', 'banana']\n",
    "list_b = list_a\n"
   ]
  },
  {
   "cell_type": "code",
   "execution_count": 46,
   "metadata": {},
   "outputs": [
    {
     "data": {
      "text/plain": [
       "['apple', 'orange', 'avocado', 'banana']"
      ]
     },
     "execution_count": 46,
     "metadata": {},
     "output_type": "execute_result"
    }
   ],
   "source": [
    "list_b"
   ]
  },
  {
   "cell_type": "code",
   "execution_count": 47,
   "metadata": {},
   "outputs": [
    {
     "data": {
      "text/plain": [
       "['melon', 'orange', 'avocado', 'banana']"
      ]
     },
     "execution_count": 47,
     "metadata": {},
     "output_type": "execute_result"
    }
   ],
   "source": [
    "list_a[0] = 'melon'\n",
    "list_a"
   ]
  },
  {
   "cell_type": "code",
   "execution_count": 48,
   "metadata": {},
   "outputs": [
    {
     "data": {
      "text/plain": [
       "['melon', 'orange', 'avocado', 'banana']"
      ]
     },
     "execution_count": 48,
     "metadata": {},
     "output_type": "execute_result"
    }
   ],
   "source": [
    "list_b"
   ]
  },
  {
   "cell_type": "code",
   "execution_count": 49,
   "metadata": {},
   "outputs": [
    {
     "data": {
      "text/plain": [
       "['melon', 'apple', 'melon']"
      ]
     },
     "execution_count": 49,
     "metadata": {},
     "output_type": "execute_result"
    }
   ],
   "source": [
    "list_a = ['melon', 'apple', 'melon']\n",
    "list_a"
   ]
  },
  {
   "cell_type": "markdown",
   "metadata": {},
   "source": [
    "<br>\n",
    "#### 5. Sets dan Dictionaries (collection data type)\n",
    "- **Sets**\n",
    "    - sama seperti pada lists dan tuples, dapat mengandung int, float, str.\n",
    "    - Sets tidak mengenal indeks.\n",
    "    - elementnya **unique**.\n",
    "    - menggunakan tanda {} dan setiap element dipisah dengan tandakoma (,)."
   ]
  },
  {
   "cell_type": "code",
   "execution_count": 2,
   "metadata": {},
   "outputs": [
    {
     "name": "stdout",
     "output_type": "stream",
     "text": [
      "set1 =  {'malam', 'pagi', 'siang', 'dingin', 'sore', 'hangat', 'panas'}\n"
     ]
    }
   ],
   "source": [
    "#sets\n",
    "set1 = {'pagi', 'siang', 'sore', 'malam', 'panas', 'pagi', 'dingin', 'pagi', 'hangat'}\n",
    "print(\"set1 = \", set1)"
   ]
  },
  {
   "cell_type": "code",
   "execution_count": 50,
   "metadata": {},
   "outputs": [
    {
     "data": {
      "text/plain": [
       "{'apple', 'avocado', 'banana', 'orange', 'water melon'}"
      ]
     },
     "execution_count": 50,
     "metadata": {},
     "output_type": "execute_result"
    }
   ],
   "source": [
    "#list ke sets\n",
    "list_a = ['apple','banana', 'orange', 'avocado', 'banana', 'banana', 'water melon']\n",
    "set2 = set(list_a)\n",
    "set2"
   ]
  },
  {
   "cell_type": "code",
   "execution_count": 53,
   "metadata": {},
   "outputs": [],
   "source": [
    "set2.add('coconut')\n"
   ]
  },
  {
   "cell_type": "code",
   "execution_count": 54,
   "metadata": {},
   "outputs": [
    {
     "data": {
      "text/plain": [
       "{'apple', 'avocado', 'banana', 'coconut', 'orange', 'water melon'}"
      ]
     },
     "execution_count": 54,
     "metadata": {},
     "output_type": "execute_result"
    }
   ],
   "source": [
    "set2"
   ]
  },
  {
   "cell_type": "code",
   "execution_count": 55,
   "metadata": {},
   "outputs": [],
   "source": [
    "set2.remove('coconut')"
   ]
  },
  {
   "cell_type": "code",
   "execution_count": 56,
   "metadata": {},
   "outputs": [
    {
     "data": {
      "text/plain": [
       "{'apple', 'avocado', 'banana', 'orange', 'water melon'}"
      ]
     },
     "execution_count": 56,
     "metadata": {},
     "output_type": "execute_result"
    }
   ],
   "source": [
    "set2"
   ]
  },
  {
   "cell_type": "code",
   "execution_count": 6,
   "metadata": {},
   "outputs": [
    {
     "data": {
      "text/plain": [
       "{'apple', 'banana', 'orange'}"
      ]
     },
     "execution_count": 6,
     "metadata": {},
     "output_type": "execute_result"
    }
   ],
   "source": [
    "#overlap antar sets\n",
    "set2 = {'apple', 'avocado', 'banana', 'orange', 'water melon'}\n",
    "set3 = {'apple', 'melon', 'banana', 'orange', 'coconut', 'grape'}\n",
    "set_overlap = set2 & set3\n",
    "set_overlap"
   ]
  },
  {
   "cell_type": "code",
   "execution_count": 9,
   "metadata": {},
   "outputs": [
    {
     "name": "stdout",
     "output_type": "stream",
     "text": [
      "{'melon', 'grape', 'water melon', 'avocado', 'coconut', 'banana', 'orange', 'apple'}\n"
     ]
    }
   ],
   "source": [
    "#Union sets\n",
    "set_union = set2.union(set3)\n",
    "print(set_union)"
   ]
  },
  {
   "cell_type": "code",
   "execution_count": 59,
   "metadata": {},
   "outputs": [
    {
     "data": {
      "text/plain": [
       "{'apple', 'avocado', 'banana'}"
      ]
     },
     "execution_count": 59,
     "metadata": {},
     "output_type": "execute_result"
    }
   ],
   "source": [
    "#verifikasi apakah suatu set merupakan sub-set dari set yang lain\n",
    "set4 = {'apple', 'avocado', 'banana', 'orange', 'water melon'}\n",
    "set5 = {'apple', 'avocado', 'banana', 'Honda'}\n",
    "set_ovp = set4 & set5\n",
    "set_ovp"
   ]
  },
  {
   "cell_type": "markdown",
   "metadata": {},
   "source": [
    "<br>\n",
    "- **Dictionaries**\n",
    "    - mengandung unsur **key** dan **values**\n",
    "    - **key** bersifat **immutable** dan **unique**\n",
    "    - **values** bersifat **immutable**, **mutable**, ataupun **duplicate**\n",
    "    - menggunakan tanda {} dan setiap pasangan key dan values dipisah dengan tandakoma (,)."
   ]
  },
  {
   "cell_type": "code",
   "execution_count": 62,
   "metadata": {},
   "outputs": [
    {
     "name": "stdout",
     "output_type": "stream",
     "text": [
      "{'key1': 1, 'key2': 'hello world 14', 'key3': [1, 2, 3], 'key4': (3, 2, 1), 'key5': 1}\n"
     ]
    }
   ],
   "source": [
    "#dictionaries\n",
    "dictionaries = {\"key1\": 1, \"key2\": \"hello world 14\", \"key3\": [1,2,3], \"key4\": (3,2,1), \"key5\": 1}\n",
    "#dictionaries = {\"mobil\": 4, \"motor\": 2}\n",
    "print(dictionaries)"
   ]
  },
  {
   "cell_type": "code",
   "execution_count": 63,
   "metadata": {},
   "outputs": [
    {
     "data": {
      "text/plain": [
       "{'key1': 1,\n",
       " 'key2': 'hello world 14',\n",
       " 'key3': [1, 2, 3],\n",
       " 'key4': (3, 2, 1),\n",
       " 'key5': 1,\n",
       " 'key6': 'Honda'}"
      ]
     },
     "execution_count": 63,
     "metadata": {},
     "output_type": "execute_result"
    }
   ],
   "source": [
    "#menambah key dan values pada dictionaries\n",
    "dictionaries['key6'] = \"Honda\"\n",
    "dictionaries"
   ]
  },
  {
   "cell_type": "code",
   "execution_count": 65,
   "metadata": {},
   "outputs": [
    {
     "data": {
      "text/plain": [
       "False"
      ]
     },
     "execution_count": 65,
     "metadata": {},
     "output_type": "execute_result"
    }
   ],
   "source": [
    "#check keys pada dictionaries\n",
    "'7' in dictionaries"
   ]
  },
  {
   "cell_type": "code",
   "execution_count": null,
   "metadata": {},
   "outputs": [],
   "source": []
  },
  {
   "cell_type": "code",
   "execution_count": 66,
   "metadata": {},
   "outputs": [
    {
     "data": {
      "text/plain": [
       "{'key1': 1,\n",
       " 'key2': 'hello world 14',\n",
       " 'key3': [1, 2, 3],\n",
       " 'key4': (3, 2, 1),\n",
       " 'key5': 1}"
      ]
     },
     "execution_count": 66,
     "metadata": {},
     "output_type": "execute_result"
    }
   ],
   "source": [
    "#delete keys di dictionaries\n",
    "del(dictionaries['key6'])\n",
    "dictionaries"
   ]
  },
  {
   "cell_type": "code",
   "execution_count": 33,
   "metadata": {},
   "outputs": [
    {
     "data": {
      "text/plain": [
       "dict_keys(['key1', 'key2', 'key3', 'key4', 'key5'])"
      ]
     },
     "execution_count": 33,
     "metadata": {},
     "output_type": "execute_result"
    }
   ],
   "source": [
    "#check apa saja keys pada dictionaries\n",
    "dictionaries.keys()"
   ]
  },
  {
   "cell_type": "code",
   "execution_count": 34,
   "metadata": {},
   "outputs": [
    {
     "data": {
      "text/plain": [
       "dict_values([1, 'hello world 14', [1, 2, 3], (3, 2, 1), 1])"
      ]
     },
     "execution_count": 34,
     "metadata": {},
     "output_type": "execute_result"
    }
   ],
   "source": [
    "#check apa saja values/element pada dictionaries\n",
    "dictionaries.values()"
   ]
  },
  {
   "cell_type": "markdown",
   "metadata": {},
   "source": [
    "<br>\n",
    "#### 6. Condition dan Branching\n",
    "- **Condition**"
   ]
  },
  {
   "cell_type": "code",
   "execution_count": 68,
   "metadata": {},
   "outputs": [
    {
     "data": {
      "text/plain": [
       "False"
      ]
     },
     "execution_count": 68,
     "metadata": {},
     "output_type": "execute_result"
    }
   ],
   "source": [
    "#Equality comparison operator\n",
    "a = 2\n",
    "b = 3\n",
    "#a == b\n",
    "#a > b\n",
    "a == b"
   ]
  },
  {
   "cell_type": "markdown",
   "metadata": {},
   "source": [
    "<br>\n",
    "- **Branching**"
   ]
  },
  {
   "cell_type": "code",
   "execution_count": 19,
   "metadata": {},
   "outputs": [
    {
     "name": "stdout",
     "output_type": "stream",
     "text": [
      "Anda bisa membeli rumah\n",
      "false\n"
     ]
    }
   ],
   "source": [
    "#If Statement\n",
    "Harga_rumah = 200\n",
    "if Harga_rumah <= 300:\n",
    "    print(\"Anda bisa membeli rumah\")\n",
    "print(\"false\")"
   ]
  },
  {
   "cell_type": "code",
   "execution_count": 46,
   "metadata": {},
   "outputs": [
    {
     "name": "stdout",
     "output_type": "stream",
     "text": [
      "Anda tidak bisa membeli rumah\n"
     ]
    }
   ],
   "source": [
    "#Else statement\n",
    "Harga_rumah = 600\n",
    "if Harga_rumah < 300:\n",
    "    print(\"Anda bisa membeli rumah\")\n",
    "else:\n",
    "    print(\"Anda tidak bisa membeli rumah\")"
   ]
  },
  {
   "cell_type": "code",
   "execution_count": 47,
   "metadata": {},
   "outputs": [
    {
     "name": "stdout",
     "output_type": "stream",
     "text": [
      "Anda bisa membeli rumah\n"
     ]
    }
   ],
   "source": [
    "#Elif statement\n",
    "Harga_rumah = 400\n",
    "if Harga_rumah < 300:\n",
    "    print(\"Anda tidak bisa membeli rumah\")\n",
    "elif (Harga_rumah >= 300 and Harga_rumah <= 600):\n",
    "    print(\"Anda bisa membeli rumah\")\n",
    "else:\n",
    "    print(\"Anda tidak bisa membeli rumah\")"
   ]
  },
  {
   "cell_type": "markdown",
   "metadata": {},
   "source": [
    "<br>\n",
    "#### 7. Logic Operators\n",
    "- operator **and**\n",
    "<br>\n",
    "<img src=\"https://centerforinquiry.org/uploads/on_campus_blog/AndTable1.png\" style=\"width: 400px\"/>\n",
    "<center> **AND truth table** </center>  \n",
    "<br>\n",
    "- operator **or**\n",
    "<br>\n",
    "<img src=\"https://3.bp.blogspot.com/-v1kjDTCgdeQ/U3YKTZHtyZI/AAAAAAAABj0/3S05_J5O2sc/s1600/bp11b.png\" style=\"width: 300px\"/>\n",
    "<center> **OR truth table** </center>  "
   ]
  },
  {
   "cell_type": "code",
   "execution_count": 71,
   "metadata": {},
   "outputs": [
    {
     "name": "stdout",
     "output_type": "stream",
     "text": [
      "a = 2, \n",
      "b benilai lebih dari 1\n"
     ]
    }
   ],
   "source": [
    "#penggunaan logic operators\n",
    "a = 2\n",
    "b = 3\n",
    "if (a == 2 and b > 1):\n",
    "    print(\"a = 2, \\nb benilai lebih dari 1\")\n",
    "elif (a == 2 or b < 1):\n",
    "    print(\"b bernilai kurang dari 1\")\n",
    "else:\n",
    "    print(\"a bukan 2\")"
   ]
  },
  {
   "cell_type": "markdown",
   "metadata": {},
   "source": [
    "<br>\n",
    "#### 8. Loops\n",
    "- **For** Loop\n",
    "- **While** Loop"
   ]
  },
  {
   "cell_type": "code",
   "execution_count": 24,
   "metadata": {
    "scrolled": true
   },
   "outputs": [
    {
     "name": "stdout",
     "output_type": "stream",
     "text": [
      "1\n",
      "2\n",
      "3\n",
      "4\n",
      "5\n",
      "6\n",
      "7\n",
      "8\n",
      "9\n",
      "10\n",
      "11\n",
      "12\n",
      "13\n",
      "14\n",
      "15\n",
      "16\n",
      "17\n",
      "18\n",
      "19\n",
      "20\n",
      "21\n",
      "22\n",
      "23\n",
      "24\n",
      "25\n",
      "26\n",
      "27\n",
      "28\n",
      "29\n",
      "30\n",
      "31\n",
      "32\n",
      "33\n",
      "34\n",
      "35\n",
      "36\n",
      "37\n",
      "38\n",
      "39\n",
      "40\n",
      "41\n",
      "42\n",
      "43\n",
      "44\n",
      "45\n",
      "46\n",
      "47\n",
      "48\n",
      "49\n",
      "50\n",
      "51\n",
      "52\n",
      "53\n",
      "54\n",
      "55\n",
      "56\n",
      "57\n",
      "58\n",
      "59\n",
      "60\n",
      "61\n",
      "62\n",
      "63\n",
      "64\n",
      "65\n",
      "66\n",
      "67\n",
      "68\n",
      "69\n",
      "70\n",
      "71\n",
      "72\n",
      "73\n",
      "74\n",
      "75\n",
      "76\n",
      "77\n",
      "78\n",
      "79\n",
      "80\n",
      "81\n",
      "82\n",
      "83\n",
      "84\n",
      "85\n",
      "86\n",
      "87\n",
      "88\n",
      "89\n",
      "90\n",
      "91\n",
      "92\n",
      "93\n",
      "94\n",
      "95\n",
      "96\n",
      "97\n",
      "98\n",
      "99\n",
      "100\n"
     ]
    }
   ],
   "source": [
    "#range\n",
    "for i in range (1, 101):\n",
    "    print(i)"
   ]
  },
  {
   "cell_type": "code",
   "execution_count": 68,
   "metadata": {},
   "outputs": [
    {
     "name": "stdout",
     "output_type": "stream",
     "text": [
      "1 adalah ganjil\n",
      "2 adalah genap\n",
      "3 adalah ganjil\n",
      "4 adalah genap\n",
      "5 adalah ganjil\n",
      "6 adalah genap\n",
      "7 adalah ganjil\n",
      "8 adalah genap\n",
      "9 adalah ganjil\n",
      "10 adalah genap\n"
     ]
    }
   ],
   "source": [
    "#mengecek bilangan ganjil dan genap menggunakan if statement\n",
    "for number in range(1,11):\n",
    "    if(number%2 == 0):\n",
    "        print(str(number) + \" adalah genap\")\n",
    "    else:\n",
    "        print(str(number) + \" adalah ganjil\")"
   ]
  },
  {
   "cell_type": "code",
   "execution_count": 28,
   "metadata": {},
   "outputs": [
    {
     "data": {
      "text/plain": [
       "['white', 'white', 'white', 'white', 'white']"
      ]
     },
     "execution_count": 28,
     "metadata": {},
     "output_type": "execute_result"
    }
   ],
   "source": [
    "#for loop untuk mengubah isi data menggunakan index\n",
    "squares = ['red', 'white', 'blue', 'green', 'purple']\n",
    "\n",
    "\n",
    "for Warna in range(0,5):\n",
    "    squares[Warna] = 'white'\n",
    "squares"
   ]
  },
  {
   "cell_type": "code",
   "execution_count": 5,
   "metadata": {},
   "outputs": [
    {
     "data": {
      "text/plain": [
       "['red', 'red', 'red']"
      ]
     },
     "execution_count": 5,
     "metadata": {},
     "output_type": "execute_result"
    }
   ],
   "source": [
    "#while loop\n",
    "squares = ['red', 'red', 'red', 'blue', 'white']\n",
    "newSquares = []\n",
    "i=0\n",
    "\n",
    "while (squares[i] == 'red'):\n",
    "    newSquares.append(squares[i])\n",
    "    i = i+1\n",
    "newSquares"
   ]
  },
  {
   "cell_type": "code",
   "execution_count": null,
   "metadata": {},
   "outputs": [],
   "source": []
  },
  {
   "cell_type": "markdown",
   "metadata": {},
   "source": [
    "<br>\n",
    "#### 9. Functions\n",
    "- menggunakan keyword \"def\""
   ]
  },
  {
   "cell_type": "code",
   "execution_count": 20,
   "metadata": {},
   "outputs": [
    {
     "data": {
      "text/plain": [
       "0"
      ]
     },
     "execution_count": 20,
     "metadata": {},
     "output_type": "execute_result"
    }
   ],
   "source": [
    "#membuat fungsi RelU\n",
    "def ReLU(x):\n",
    "    tmp = x\n",
    "    if x <= 0:\n",
    "        tmp = 0\n",
    "    return tmp\n",
    "ReLU(-1)"
   ]
  },
  {
   "attachments": {
    "image.png": {
     "image/png": "[encoded data removed]"
    }
   },
   "cell_type": "markdown",
   "metadata": {},
   "source": [
    "<br>\n",
    "#### 10. Class dan Objects\n",
    "- Class merupakan kerangka/blueprint untuk membentuk object.\n",
    "- Objects berisi:\n",
    "    - properties : data types (int, float, str, list, dll).\n",
    "    - method : untuk berinteraksi dengan properties.\n",
    "<br>\n",
    "![image.png](attachment:image.png)\n",
    "<br>\n",
    "<img src=\"https://www.guru99.com/images/java/052016_0704_ObjectsandC5.jpg\" style=\"width: 300px\"/>\n",
    "<center> **Class and Object** </center>  \n"
   ]
  },
  {
   "cell_type": "code",
   "execution_count": 14,
   "metadata": {},
   "outputs": [
    {
     "name": "stdout",
     "output_type": "stream",
     "text": [
      "nama_mobil: Toyota, warna_mobil: Hitam\n"
     ]
    }
   ],
   "source": [
    "#class dan objects\n",
    "class Car:\n",
    "    def __init__(self, name, colour):\n",
    "        self.name = name\n",
    "        self.colour = colour\n",
    "    def getCar(self):\n",
    "        return \"nama_mobil: \" + self.name + \", warna_mobil: \" + self.colour\n",
    "\n",
    "Avanza = Car(\"Toyota\", \"Hitam\")\n",
    "Expander = Car(\"Suzuki\", \"Silver\")\n",
    "\n",
    "print(Avanza.getCar())"
   ]
  },
  {
   "cell_type": "code",
   "execution_count": 93,
   "metadata": {
    "scrolled": true
   },
   "outputs": [
    {
     "name": "stdout",
     "output_type": "stream",
     "text": [
      "nama : person0, umur: 0\n",
      "nama : person1, umur: 1\n",
      "nama : person2, umur: 2\n",
      "nama : person3, umur: 3\n",
      "nama : person4, umur: 4\n",
      "nama : person5, umur: 5\n",
      "nama : person6, umur: 6\n",
      "nama : person7, umur: 7\n",
      "nama : person8, umur: 8\n",
      "nama : person9, umur: 9\n",
      "nama : person10, umur: 10\n",
      "nama : person11, umur: 11\n",
      "nama : person12, umur: 12\n",
      "nama : person13, umur: 13\n",
      "nama : person14, umur: 14\n",
      "nama : person15, umur: 15\n",
      "nama : person16, umur: 16\n",
      "nama : person17, umur: 17\n",
      "nama : person18, umur: 18\n",
      "nama : person19, umur: 19\n",
      "nama : person20, umur: 20\n",
      "nama : person21, umur: 21\n",
      "nama : person22, umur: 22\n",
      "nama : person23, umur: 23\n",
      "nama : person24, umur: 24\n",
      "nama : person25, umur: 25\n",
      "nama : person26, umur: 26\n",
      "nama : person27, umur: 27\n",
      "nama : person28, umur: 28\n",
      "nama : person29, umur: 29\n",
      "nama : person30, umur: 30\n",
      "nama : person31, umur: 31\n",
      "nama : person32, umur: 32\n",
      "nama : person33, umur: 33\n",
      "nama : person34, umur: 34\n",
      "nama : person35, umur: 35\n",
      "nama : person36, umur: 36\n",
      "nama : person37, umur: 37\n",
      "nama : person38, umur: 38\n",
      "nama : person39, umur: 39\n",
      "nama : person40, umur: 40\n",
      "nama : person41, umur: 41\n",
      "nama : person42, umur: 42\n",
      "nama : person43, umur: 43\n",
      "nama : person44, umur: 44\n",
      "nama : person45, umur: 45\n",
      "nama : person46, umur: 46\n",
      "nama : person47, umur: 47\n",
      "nama : person48, umur: 48\n",
      "nama : person49, umur: 49\n",
      "nama : person50, umur: 50\n",
      "nama : person51, umur: 51\n",
      "nama : person52, umur: 52\n",
      "nama : person53, umur: 53\n",
      "nama : person54, umur: 54\n",
      "nama : person55, umur: 55\n",
      "nama : person56, umur: 56\n",
      "nama : person57, umur: 57\n",
      "nama : person58, umur: 58\n",
      "nama : person59, umur: 59\n",
      "nama : person60, umur: 60\n",
      "nama : person61, umur: 61\n",
      "nama : person62, umur: 62\n",
      "nama : person63, umur: 63\n",
      "nama : person64, umur: 64\n",
      "nama : person65, umur: 65\n",
      "nama : person66, umur: 66\n",
      "nama : person67, umur: 67\n",
      "nama : person68, umur: 68\n",
      "nama : person69, umur: 69\n",
      "nama : person70, umur: 70\n",
      "nama : person71, umur: 71\n",
      "nama : person72, umur: 72\n",
      "nama : person73, umur: 73\n",
      "nama : person74, umur: 74\n",
      "nama : person75, umur: 75\n",
      "nama : person76, umur: 76\n",
      "nama : person77, umur: 77\n",
      "nama : person78, umur: 78\n",
      "nama : person79, umur: 79\n",
      "nama : person80, umur: 80\n",
      "nama : person81, umur: 81\n",
      "nama : person82, umur: 82\n",
      "nama : person83, umur: 83\n",
      "nama : person84, umur: 84\n",
      "nama : person85, umur: 85\n",
      "nama : person86, umur: 86\n",
      "nama : person87, umur: 87\n",
      "nama : person88, umur: 88\n",
      "nama : person89, umur: 89\n",
      "nama : person90, umur: 90\n",
      "nama : person91, umur: 91\n",
      "nama : person92, umur: 92\n",
      "nama : person93, umur: 93\n",
      "nama : person94, umur: 94\n",
      "nama : person95, umur: 95\n",
      "nama : person96, umur: 96\n",
      "nama : person97, umur: 97\n",
      "nama : person98, umur: 98\n",
      "nama : person99, umur: 99\n",
      "nama : person100, umur: 100\n",
      "nama : person101, umur: 101\n",
      "nama : person102, umur: 102\n",
      "nama : person103, umur: 103\n",
      "nama : person104, umur: 104\n",
      "nama : person105, umur: 105\n",
      "nama : person106, umur: 106\n",
      "nama : person107, umur: 107\n",
      "nama : person108, umur: 108\n",
      "nama : person109, umur: 109\n",
      "nama : person110, umur: 110\n",
      "nama : person111, umur: 111\n",
      "nama : person112, umur: 112\n",
      "nama : person113, umur: 113\n",
      "nama : person114, umur: 114\n",
      "nama : person115, umur: 115\n",
      "nama : person116, umur: 116\n",
      "nama : person117, umur: 117\n",
      "nama : person118, umur: 118\n",
      "nama : person119, umur: 119\n",
      "nama : person120, umur: 120\n",
      "nama : person121, umur: 121\n",
      "nama : person122, umur: 122\n",
      "nama : person123, umur: 123\n",
      "nama : person124, umur: 124\n",
      "nama : person125, umur: 125\n",
      "nama : person126, umur: 126\n",
      "nama : person127, umur: 127\n",
      "nama : person128, umur: 128\n",
      "nama : person129, umur: 129\n",
      "nama : person130, umur: 130\n",
      "nama : person131, umur: 131\n",
      "nama : person132, umur: 132\n",
      "nama : person133, umur: 133\n",
      "nama : person134, umur: 134\n",
      "nama : person135, umur: 135\n",
      "nama : person136, umur: 136\n",
      "nama : person137, umur: 137\n",
      "nama : person138, umur: 138\n",
      "nama : person139, umur: 139\n",
      "nama : person140, umur: 140\n",
      "nama : person141, umur: 141\n",
      "nama : person142, umur: 142\n",
      "nama : person143, umur: 143\n",
      "nama : person144, umur: 144\n",
      "nama : person145, umur: 145\n",
      "nama : person146, umur: 146\n",
      "nama : person147, umur: 147\n",
      "nama : person148, umur: 148\n",
      "nama : person149, umur: 149\n",
      "nama : person150, umur: 150\n",
      "nama : person151, umur: 151\n",
      "nama : person152, umur: 152\n",
      "nama : person153, umur: 153\n",
      "nama : person154, umur: 154\n",
      "nama : person155, umur: 155\n",
      "nama : person156, umur: 156\n",
      "nama : person157, umur: 157\n",
      "nama : person158, umur: 158\n",
      "nama : person159, umur: 159\n",
      "nama : person160, umur: 160\n",
      "nama : person161, umur: 161\n",
      "nama : person162, umur: 162\n",
      "nama : person163, umur: 163\n",
      "nama : person164, umur: 164\n",
      "nama : person165, umur: 165\n",
      "nama : person166, umur: 166\n",
      "nama : person167, umur: 167\n",
      "nama : person168, umur: 168\n",
      "nama : person169, umur: 169\n",
      "nama : person170, umur: 170\n",
      "nama : person171, umur: 171\n",
      "nama : person172, umur: 172\n",
      "nama : person173, umur: 173\n",
      "nama : person174, umur: 174\n",
      "nama : person175, umur: 175\n",
      "nama : person176, umur: 176\n",
      "nama : person177, umur: 177\n",
      "nama : person178, umur: 178\n",
      "nama : person179, umur: 179\n",
      "nama : person180, umur: 180\n",
      "nama : person181, umur: 181\n",
      "nama : person182, umur: 182\n",
      "nama : person183, umur: 183\n",
      "nama : person184, umur: 184\n",
      "nama : person185, umur: 185\n",
      "nama : person186, umur: 186\n",
      "nama : person187, umur: 187\n",
      "nama : person188, umur: 188\n",
      "nama : person189, umur: 189\n",
      "nama : person190, umur: 190\n",
      "nama : person191, umur: 191\n",
      "nama : person192, umur: 192\n",
      "nama : person193, umur: 193\n",
      "nama : person194, umur: 194\n",
      "nama : person195, umur: 195\n",
      "nama : person196, umur: 196\n",
      "nama : person197, umur: 197\n",
      "nama : person198, umur: 198\n",
      "nama : person199, umur: 199\n",
      "nama : person200, umur: 200\n",
      "nama : person201, umur: 201\n",
      "nama : person202, umur: 202\n",
      "nama : person203, umur: 203\n",
      "nama : person204, umur: 204\n",
      "nama : person205, umur: 205\n",
      "nama : person206, umur: 206\n",
      "nama : person207, umur: 207\n",
      "nama : person208, umur: 208\n",
      "nama : person209, umur: 209\n",
      "nama : person210, umur: 210\n",
      "nama : person211, umur: 211\n",
      "nama : person212, umur: 212\n",
      "nama : person213, umur: 213\n",
      "nama : person214, umur: 214\n",
      "nama : person215, umur: 215\n",
      "nama : person216, umur: 216\n",
      "nama : person217, umur: 217\n",
      "nama : person218, umur: 218\n",
      "nama : person219, umur: 219\n",
      "nama : person220, umur: 220\n",
      "nama : person221, umur: 221\n",
      "nama : person222, umur: 222\n",
      "nama : person223, umur: 223\n",
      "nama : person224, umur: 224\n",
      "nama : person225, umur: 225\n",
      "nama : person226, umur: 226\n",
      "nama : person227, umur: 227\n",
      "nama : person228, umur: 228\n",
      "nama : person229, umur: 229\n",
      "nama : person230, umur: 230\n",
      "nama : person231, umur: 231\n",
      "nama : person232, umur: 232\n",
      "nama : person233, umur: 233\n",
      "nama : person234, umur: 234\n",
      "nama : person235, umur: 235\n",
      "nama : person236, umur: 236\n",
      "nama : person237, umur: 237\n",
      "nama : person238, umur: 238\n",
      "nama : person239, umur: 239\n",
      "nama : person240, umur: 240\n",
      "nama : person241, umur: 241\n",
      "nama : person242, umur: 242\n",
      "nama : person243, umur: 243\n",
      "nama : person244, umur: 244\n",
      "nama : person245, umur: 245\n",
      "nama : person246, umur: 246\n",
      "nama : person247, umur: 247\n",
      "nama : person248, umur: 248\n",
      "nama : person249, umur: 249\n",
      "nama : person250, umur: 250\n",
      "nama : person251, umur: 251\n",
      "nama : person252, umur: 252\n",
      "nama : person253, umur: 253\n",
      "nama : person254, umur: 254\n",
      "nama : person255, umur: 255\n",
      "nama : person256, umur: 256\n",
      "nama : person257, umur: 257\n",
      "nama : person258, umur: 258\n",
      "nama : person259, umur: 259\n",
      "nama : person260, umur: 260\n",
      "nama : person261, umur: 261\n",
      "nama : person262, umur: 262\n",
      "nama : person263, umur: 263\n",
      "nama : person264, umur: 264\n",
      "nama : person265, umur: 265\n",
      "nama : person266, umur: 266\n",
      "nama : person267, umur: 267\n",
      "nama : person268, umur: 268\n",
      "nama : person269, umur: 269\n",
      "nama : person270, umur: 270\n",
      "nama : person271, umur: 271\n",
      "nama : person272, umur: 272\n",
      "nama : person273, umur: 273\n",
      "nama : person274, umur: 274\n",
      "nama : person275, umur: 275\n",
      "nama : person276, umur: 276\n",
      "nama : person277, umur: 277\n",
      "nama : person278, umur: 278\n",
      "nama : person279, umur: 279\n",
      "nama : person280, umur: 280\n",
      "nama : person281, umur: 281\n",
      "nama : person282, umur: 282\n",
      "nama : person283, umur: 283\n",
      "nama : person284, umur: 284\n",
      "nama : person285, umur: 285\n",
      "nama : person286, umur: 286\n",
      "nama : person287, umur: 287\n",
      "nama : person288, umur: 288\n",
      "nama : person289, umur: 289\n",
      "nama : person290, umur: 290\n",
      "nama : person291, umur: 291\n",
      "nama : person292, umur: 292\n",
      "nama : person293, umur: 293\n",
      "nama : person294, umur: 294\n",
      "nama : person295, umur: 295\n",
      "nama : person296, umur: 296\n",
      "nama : person297, umur: 297\n",
      "nama : person298, umur: 298\n",
      "nama : person299, umur: 299\n",
      "nama : person300, umur: 300\n",
      "nama : person301, umur: 301\n",
      "nama : person302, umur: 302\n",
      "nama : person303, umur: 303\n",
      "nama : person304, umur: 304\n",
      "nama : person305, umur: 305\n",
      "nama : person306, umur: 306\n",
      "nama : person307, umur: 307\n",
      "nama : person308, umur: 308\n",
      "nama : person309, umur: 309\n",
      "nama : person310, umur: 310\n",
      "nama : person311, umur: 311\n",
      "nama : person312, umur: 312\n",
      "nama : person313, umur: 313\n",
      "nama : person314, umur: 314\n",
      "nama : person315, umur: 315\n",
      "nama : person316, umur: 316\n",
      "nama : person317, umur: 317\n",
      "nama : person318, umur: 318\n",
      "nama : person319, umur: 319\n",
      "nama : person320, umur: 320\n",
      "nama : person321, umur: 321\n",
      "nama : person322, umur: 322\n",
      "nama : person323, umur: 323\n",
      "nama : person324, umur: 324\n",
      "nama : person325, umur: 325\n",
      "nama : person326, umur: 326\n",
      "nama : person327, umur: 327\n",
      "nama : person328, umur: 328\n",
      "nama : person329, umur: 329\n",
      "nama : person330, umur: 330\n",
      "nama : person331, umur: 331\n",
      "nama : person332, umur: 332\n",
      "nama : person333, umur: 333\n",
      "nama : person334, umur: 334\n",
      "nama : person335, umur: 335\n",
      "nama : person336, umur: 336\n",
      "nama : person337, umur: 337\n",
      "nama : person338, umur: 338\n",
      "nama : person339, umur: 339\n",
      "nama : person340, umur: 340\n",
      "nama : person341, umur: 341\n",
      "nama : person342, umur: 342\n",
      "nama : person343, umur: 343\n",
      "nama : person344, umur: 344\n",
      "nama : person345, umur: 345\n",
      "nama : person346, umur: 346\n",
      "nama : person347, umur: 347\n",
      "nama : person348, umur: 348\n",
      "nama : person349, umur: 349\n",
      "nama : person350, umur: 350\n",
      "nama : person351, umur: 351\n",
      "nama : person352, umur: 352\n",
      "nama : person353, umur: 353\n",
      "nama : person354, umur: 354\n",
      "nama : person355, umur: 355\n",
      "nama : person356, umur: 356\n",
      "nama : person357, umur: 357\n",
      "nama : person358, umur: 358\n",
      "nama : person359, umur: 359\n",
      "nama : person360, umur: 360\n",
      "nama : person361, umur: 361\n",
      "nama : person362, umur: 362\n",
      "nama : person363, umur: 363\n",
      "nama : person364, umur: 364\n",
      "nama : person365, umur: 365\n",
      "nama : person366, umur: 366\n",
      "nama : person367, umur: 367\n",
      "nama : person368, umur: 368\n",
      "nama : person369, umur: 369\n",
      "nama : person370, umur: 370\n",
      "nama : person371, umur: 371\n",
      "nama : person372, umur: 372\n",
      "nama : person373, umur: 373\n",
      "nama : person374, umur: 374\n",
      "nama : person375, umur: 375\n",
      "nama : person376, umur: 376\n",
      "nama : person377, umur: 377\n",
      "nama : person378, umur: 378\n",
      "nama : person379, umur: 379\n",
      "nama : person380, umur: 380\n",
      "nama : person381, umur: 381\n",
      "nama : person382, umur: 382\n",
      "nama : person383, umur: 383\n",
      "nama : person384, umur: 384\n",
      "nama : person385, umur: 385\n",
      "nama : person386, umur: 386\n",
      "nama : person387, umur: 387\n",
      "nama : person388, umur: 388\n",
      "nama : person389, umur: 389\n",
      "nama : person390, umur: 390\n",
      "nama : person391, umur: 391\n",
      "nama : person392, umur: 392\n",
      "nama : person393, umur: 393\n",
      "nama : person394, umur: 394\n",
      "nama : person395, umur: 395\n",
      "nama : person396, umur: 396\n",
      "nama : person397, umur: 397\n",
      "nama : person398, umur: 398\n",
      "nama : person399, umur: 399\n",
      "nama : person400, umur: 400\n",
      "nama : person401, umur: 401\n",
      "nama : person402, umur: 402\n",
      "nama : person403, umur: 403\n",
      "nama : person404, umur: 404\n",
      "nama : person405, umur: 405\n",
      "nama : person406, umur: 406\n",
      "nama : person407, umur: 407\n",
      "nama : person408, umur: 408\n",
      "nama : person409, umur: 409\n",
      "nama : person410, umur: 410\n",
      "nama : person411, umur: 411\n",
      "nama : person412, umur: 412\n",
      "nama : person413, umur: 413\n",
      "nama : person414, umur: 414\n",
      "nama : person415, umur: 415\n",
      "nama : person416, umur: 416\n",
      "nama : person417, umur: 417\n",
      "nama : person418, umur: 418\n",
      "nama : person419, umur: 419\n",
      "nama : person420, umur: 420\n",
      "nama : person421, umur: 421\n",
      "nama : person422, umur: 422\n",
      "nama : person423, umur: 423\n",
      "nama : person424, umur: 424\n",
      "nama : person425, umur: 425\n",
      "nama : person426, umur: 426\n",
      "nama : person427, umur: 427\n",
      "nama : person428, umur: 428\n",
      "nama : person429, umur: 429\n",
      "nama : person430, umur: 430\n",
      "nama : person431, umur: 431\n",
      "nama : person432, umur: 432\n",
      "nama : person433, umur: 433\n",
      "nama : person434, umur: 434\n",
      "nama : person435, umur: 435\n",
      "nama : person436, umur: 436\n",
      "nama : person437, umur: 437\n",
      "nama : person438, umur: 438\n",
      "nama : person439, umur: 439\n",
      "nama : person440, umur: 440\n",
      "nama : person441, umur: 441\n",
      "nama : person442, umur: 442\n",
      "nama : person443, umur: 443\n",
      "nama : person444, umur: 444\n",
      "nama : person445, umur: 445\n",
      "nama : person446, umur: 446\n",
      "nama : person447, umur: 447\n",
      "nama : person448, umur: 448\n",
      "nama : person449, umur: 449\n",
      "nama : person450, umur: 450\n",
      "nama : person451, umur: 451\n",
      "nama : person452, umur: 452\n",
      "nama : person453, umur: 453\n",
      "nama : person454, umur: 454\n",
      "nama : person455, umur: 455\n",
      "nama : person456, umur: 456\n",
      "nama : person457, umur: 457\n",
      "nama : person458, umur: 458\n",
      "nama : person459, umur: 459\n",
      "nama : person460, umur: 460\n",
      "nama : person461, umur: 461\n",
      "nama : person462, umur: 462\n",
      "nama : person463, umur: 463\n",
      "nama : person464, umur: 464\n",
      "nama : person465, umur: 465\n",
      "nama : person466, umur: 466\n",
      "nama : person467, umur: 467\n",
      "nama : person468, umur: 468\n",
      "nama : person469, umur: 469\n",
      "nama : person470, umur: 470\n",
      "nama : person471, umur: 471\n",
      "nama : person472, umur: 472\n",
      "nama : person473, umur: 473\n",
      "nama : person474, umur: 474\n",
      "nama : person475, umur: 475\n",
      "nama : person476, umur: 476\n",
      "nama : person477, umur: 477\n",
      "nama : person478, umur: 478\n",
      "nama : person479, umur: 479\n",
      "nama : person480, umur: 480\n",
      "nama : person481, umur: 481\n",
      "nama : person482, umur: 482\n",
      "nama : person483, umur: 483\n",
      "nama : person484, umur: 484\n",
      "nama : person485, umur: 485\n",
      "nama : person486, umur: 486\n",
      "nama : person487, umur: 487\n",
      "nama : person488, umur: 488\n",
      "nama : person489, umur: 489\n",
      "nama : person490, umur: 490\n",
      "nama : person491, umur: 491\n",
      "nama : person492, umur: 492\n",
      "nama : person493, umur: 493\n",
      "nama : person494, umur: 494\n",
      "nama : person495, umur: 495\n",
      "nama : person496, umur: 496\n",
      "nama : person497, umur: 497\n",
      "nama : person498, umur: 498\n",
      "nama : person499, umur: 499\n",
      "nama : person500, umur: 500\n",
      "nama : person501, umur: 501\n",
      "nama : person502, umur: 502\n",
      "nama : person503, umur: 503\n",
      "nama : person504, umur: 504\n",
      "nama : person505, umur: 505\n",
      "nama : person506, umur: 506\n",
      "nama : person507, umur: 507\n",
      "nama : person508, umur: 508\n",
      "nama : person509, umur: 509\n",
      "nama : person510, umur: 510\n",
      "nama : person511, umur: 511\n",
      "nama : person512, umur: 512\n",
      "nama : person513, umur: 513\n",
      "nama : person514, umur: 514\n",
      "nama : person515, umur: 515\n",
      "nama : person516, umur: 516\n",
      "nama : person517, umur: 517\n",
      "nama : person518, umur: 518\n",
      "nama : person519, umur: 519\n",
      "nama : person520, umur: 520\n",
      "nama : person521, umur: 521\n",
      "nama : person522, umur: 522\n",
      "nama : person523, umur: 523\n",
      "nama : person524, umur: 524\n",
      "nama : person525, umur: 525\n",
      "nama : person526, umur: 526\n",
      "nama : person527, umur: 527\n",
      "nama : person528, umur: 528\n",
      "nama : person529, umur: 529\n",
      "nama : person530, umur: 530\n",
      "nama : person531, umur: 531\n",
      "nama : person532, umur: 532\n",
      "nama : person533, umur: 533\n",
      "nama : person534, umur: 534\n",
      "nama : person535, umur: 535\n",
      "nama : person536, umur: 536\n",
      "nama : person537, umur: 537\n",
      "nama : person538, umur: 538\n",
      "nama : person539, umur: 539\n",
      "nama : person540, umur: 540\n",
      "nama : person541, umur: 541\n",
      "nama : person542, umur: 542\n",
      "nama : person543, umur: 543\n",
      "nama : person544, umur: 544\n",
      "nama : person545, umur: 545\n",
      "nama : person546, umur: 546\n",
      "nama : person547, umur: 547\n",
      "nama : person548, umur: 548\n",
      "nama : person549, umur: 549\n",
      "nama : person550, umur: 550\n",
      "nama : person551, umur: 551\n",
      "nama : person552, umur: 552\n",
      "nama : person553, umur: 553\n",
      "nama : person554, umur: 554\n",
      "nama : person555, umur: 555\n",
      "nama : person556, umur: 556\n",
      "nama : person557, umur: 557\n",
      "nama : person558, umur: 558\n",
      "nama : person559, umur: 559\n",
      "nama : person560, umur: 560\n",
      "nama : person561, umur: 561\n",
      "nama : person562, umur: 562\n",
      "nama : person563, umur: 563\n",
      "nama : person564, umur: 564\n",
      "nama : person565, umur: 565\n",
      "nama : person566, umur: 566\n",
      "nama : person567, umur: 567\n",
      "nama : person568, umur: 568\n",
      "nama : person569, umur: 569\n",
      "nama : person570, umur: 570\n",
      "nama : person571, umur: 571\n",
      "nama : person572, umur: 572\n",
      "nama : person573, umur: 573\n",
      "nama : person574, umur: 574\n",
      "nama : person575, umur: 575\n",
      "nama : person576, umur: 576\n",
      "nama : person577, umur: 577\n",
      "nama : person578, umur: 578\n",
      "nama : person579, umur: 579\n",
      "nama : person580, umur: 580\n",
      "nama : person581, umur: 581\n",
      "nama : person582, umur: 582\n",
      "nama : person583, umur: 583\n",
      "nama : person584, umur: 584\n",
      "nama : person585, umur: 585\n",
      "nama : person586, umur: 586\n",
      "nama : person587, umur: 587\n",
      "nama : person588, umur: 588\n",
      "nama : person589, umur: 589\n",
      "nama : person590, umur: 590\n",
      "nama : person591, umur: 591\n",
      "nama : person592, umur: 592\n",
      "nama : person593, umur: 593\n",
      "nama : person594, umur: 594\n",
      "nama : person595, umur: 595\n",
      "nama : person596, umur: 596\n",
      "nama : person597, umur: 597\n",
      "nama : person598, umur: 598\n",
      "nama : person599, umur: 599\n",
      "nama : person600, umur: 600\n",
      "nama : person601, umur: 601\n",
      "nama : person602, umur: 602\n",
      "nama : person603, umur: 603\n",
      "nama : person604, umur: 604\n",
      "nama : person605, umur: 605\n",
      "nama : person606, umur: 606\n",
      "nama : person607, umur: 607\n",
      "nama : person608, umur: 608\n",
      "nama : person609, umur: 609\n",
      "nama : person610, umur: 610\n",
      "nama : person611, umur: 611\n",
      "nama : person612, umur: 612\n",
      "nama : person613, umur: 613\n",
      "nama : person614, umur: 614\n",
      "nama : person615, umur: 615\n",
      "nama : person616, umur: 616\n",
      "nama : person617, umur: 617\n",
      "nama : person618, umur: 618\n",
      "nama : person619, umur: 619\n",
      "nama : person620, umur: 620\n",
      "nama : person621, umur: 621\n",
      "nama : person622, umur: 622\n",
      "nama : person623, umur: 623\n",
      "nama : person624, umur: 624\n",
      "nama : person625, umur: 625\n",
      "nama : person626, umur: 626\n",
      "nama : person627, umur: 627\n",
      "nama : person628, umur: 628\n",
      "nama : person629, umur: 629\n",
      "nama : person630, umur: 630\n",
      "nama : person631, umur: 631\n",
      "nama : person632, umur: 632\n",
      "nama : person633, umur: 633\n",
      "nama : person634, umur: 634\n",
      "nama : person635, umur: 635\n",
      "nama : person636, umur: 636\n",
      "nama : person637, umur: 637\n",
      "nama : person638, umur: 638\n",
      "nama : person639, umur: 639\n",
      "nama : person640, umur: 640\n",
      "nama : person641, umur: 641\n",
      "nama : person642, umur: 642\n",
      "nama : person643, umur: 643\n",
      "nama : person644, umur: 644\n",
      "nama : person645, umur: 645\n",
      "nama : person646, umur: 646\n",
      "nama : person647, umur: 647\n",
      "nama : person648, umur: 648\n",
      "nama : person649, umur: 649\n",
      "nama : person650, umur: 650\n",
      "nama : person651, umur: 651\n",
      "nama : person652, umur: 652\n",
      "nama : person653, umur: 653\n",
      "nama : person654, umur: 654\n",
      "nama : person655, umur: 655\n",
      "nama : person656, umur: 656\n",
      "nama : person657, umur: 657\n",
      "nama : person658, umur: 658\n",
      "nama : person659, umur: 659\n",
      "nama : person660, umur: 660\n",
      "nama : person661, umur: 661\n",
      "nama : person662, umur: 662\n",
      "nama : person663, umur: 663\n",
      "nama : person664, umur: 664\n",
      "nama : person665, umur: 665\n",
      "nama : person666, umur: 666\n",
      "nama : person667, umur: 667\n",
      "nama : person668, umur: 668\n",
      "nama : person669, umur: 669\n",
      "nama : person670, umur: 670\n",
      "nama : person671, umur: 671\n",
      "nama : person672, umur: 672\n",
      "nama : person673, umur: 673\n",
      "nama : person674, umur: 674\n",
      "nama : person675, umur: 675\n",
      "nama : person676, umur: 676\n",
      "nama : person677, umur: 677\n",
      "nama : person678, umur: 678\n",
      "nama : person679, umur: 679\n",
      "nama : person680, umur: 680\n",
      "nama : person681, umur: 681\n",
      "nama : person682, umur: 682\n",
      "nama : person683, umur: 683\n",
      "nama : person684, umur: 684\n",
      "nama : person685, umur: 685\n",
      "nama : person686, umur: 686\n",
      "nama : person687, umur: 687\n",
      "nama : person688, umur: 688\n",
      "nama : person689, umur: 689\n",
      "nama : person690, umur: 690\n",
      "nama : person691, umur: 691\n",
      "nama : person692, umur: 692\n",
      "nama : person693, umur: 693\n",
      "nama : person694, umur: 694\n",
      "nama : person695, umur: 695\n",
      "nama : person696, umur: 696\n",
      "nama : person697, umur: 697\n",
      "nama : person698, umur: 698\n",
      "nama : person699, umur: 699\n",
      "nama : person700, umur: 700\n",
      "nama : person701, umur: 701\n",
      "nama : person702, umur: 702\n",
      "nama : person703, umur: 703\n",
      "nama : person704, umur: 704\n",
      "nama : person705, umur: 705\n",
      "nama : person706, umur: 706\n",
      "nama : person707, umur: 707\n",
      "nama : person708, umur: 708\n",
      "nama : person709, umur: 709\n",
      "nama : person710, umur: 710\n",
      "nama : person711, umur: 711\n",
      "nama : person712, umur: 712\n",
      "nama : person713, umur: 713\n",
      "nama : person714, umur: 714\n",
      "nama : person715, umur: 715\n",
      "nama : person716, umur: 716\n",
      "nama : person717, umur: 717\n",
      "nama : person718, umur: 718\n",
      "nama : person719, umur: 719\n",
      "nama : person720, umur: 720\n",
      "nama : person721, umur: 721\n",
      "nama : person722, umur: 722\n",
      "nama : person723, umur: 723\n",
      "nama : person724, umur: 724\n",
      "nama : person725, umur: 725\n",
      "nama : person726, umur: 726\n",
      "nama : person727, umur: 727\n",
      "nama : person728, umur: 728\n",
      "nama : person729, umur: 729\n",
      "nama : person730, umur: 730\n",
      "nama : person731, umur: 731\n",
      "nama : person732, umur: 732\n",
      "nama : person733, umur: 733\n",
      "nama : person734, umur: 734\n",
      "nama : person735, umur: 735\n",
      "nama : person736, umur: 736\n",
      "nama : person737, umur: 737\n",
      "nama : person738, umur: 738\n",
      "nama : person739, umur: 739\n",
      "nama : person740, umur: 740\n",
      "nama : person741, umur: 741\n",
      "nama : person742, umur: 742\n",
      "nama : person743, umur: 743\n",
      "nama : person744, umur: 744\n",
      "nama : person745, umur: 745\n",
      "nama : person746, umur: 746\n",
      "nama : person747, umur: 747\n",
      "nama : person748, umur: 748\n",
      "nama : person749, umur: 749\n",
      "nama : person750, umur: 750\n",
      "nama : person751, umur: 751\n",
      "nama : person752, umur: 752\n",
      "nama : person753, umur: 753\n",
      "nama : person754, umur: 754\n",
      "nama : person755, umur: 755\n",
      "nama : person756, umur: 756\n",
      "nama : person757, umur: 757\n",
      "nama : person758, umur: 758\n",
      "nama : person759, umur: 759\n",
      "nama : person760, umur: 760\n",
      "nama : person761, umur: 761\n",
      "nama : person762, umur: 762\n",
      "nama : person763, umur: 763\n",
      "nama : person764, umur: 764\n",
      "nama : person765, umur: 765\n",
      "nama : person766, umur: 766\n",
      "nama : person767, umur: 767\n",
      "nama : person768, umur: 768\n",
      "nama : person769, umur: 769\n",
      "nama : person770, umur: 770\n",
      "nama : person771, umur: 771\n",
      "nama : person772, umur: 772\n",
      "nama : person773, umur: 773\n",
      "nama : person774, umur: 774\n",
      "nama : person775, umur: 775\n",
      "nama : person776, umur: 776\n",
      "nama : person777, umur: 777\n",
      "nama : person778, umur: 778\n",
      "nama : person779, umur: 779\n",
      "nama : person780, umur: 780\n",
      "nama : person781, umur: 781\n",
      "nama : person782, umur: 782\n",
      "nama : person783, umur: 783\n",
      "nama : person784, umur: 784\n",
      "nama : person785, umur: 785\n",
      "nama : person786, umur: 786\n",
      "nama : person787, umur: 787\n",
      "nama : person788, umur: 788\n",
      "nama : person789, umur: 789\n",
      "nama : person790, umur: 790\n",
      "nama : person791, umur: 791\n",
      "nama : person792, umur: 792\n",
      "nama : person793, umur: 793\n",
      "nama : person794, umur: 794\n",
      "nama : person795, umur: 795\n",
      "nama : person796, umur: 796\n",
      "nama : person797, umur: 797\n",
      "nama : person798, umur: 798\n",
      "nama : person799, umur: 799\n",
      "nama : person800, umur: 800\n",
      "nama : person801, umur: 801\n",
      "nama : person802, umur: 802\n",
      "nama : person803, umur: 803\n",
      "nama : person804, umur: 804\n",
      "nama : person805, umur: 805\n",
      "nama : person806, umur: 806\n",
      "nama : person807, umur: 807\n",
      "nama : person808, umur: 808\n",
      "nama : person809, umur: 809\n",
      "nama : person810, umur: 810\n",
      "nama : person811, umur: 811\n",
      "nama : person812, umur: 812\n",
      "nama : person813, umur: 813\n",
      "nama : person814, umur: 814\n",
      "nama : person815, umur: 815\n",
      "nama : person816, umur: 816\n",
      "nama : person817, umur: 817\n",
      "nama : person818, umur: 818\n",
      "nama : person819, umur: 819\n",
      "nama : person820, umur: 820\n",
      "nama : person821, umur: 821\n",
      "nama : person822, umur: 822\n",
      "nama : person823, umur: 823\n",
      "nama : person824, umur: 824\n",
      "nama : person825, umur: 825\n",
      "nama : person826, umur: 826\n",
      "nama : person827, umur: 827\n",
      "nama : person828, umur: 828\n",
      "nama : person829, umur: 829\n",
      "nama : person830, umur: 830\n",
      "nama : person831, umur: 831\n",
      "nama : person832, umur: 832\n",
      "nama : person833, umur: 833\n",
      "nama : person834, umur: 834\n",
      "nama : person835, umur: 835\n",
      "nama : person836, umur: 836\n",
      "nama : person837, umur: 837\n",
      "nama : person838, umur: 838\n",
      "nama : person839, umur: 839\n",
      "nama : person840, umur: 840\n",
      "nama : person841, umur: 841\n",
      "nama : person842, umur: 842\n",
      "nama : person843, umur: 843\n",
      "nama : person844, umur: 844\n",
      "nama : person845, umur: 845\n",
      "nama : person846, umur: 846\n",
      "nama : person847, umur: 847\n",
      "nama : person848, umur: 848\n",
      "nama : person849, umur: 849\n",
      "nama : person850, umur: 850\n",
      "nama : person851, umur: 851\n",
      "nama : person852, umur: 852\n",
      "nama : person853, umur: 853\n",
      "nama : person854, umur: 854\n",
      "nama : person855, umur: 855\n",
      "nama : person856, umur: 856\n",
      "nama : person857, umur: 857\n",
      "nama : person858, umur: 858\n",
      "nama : person859, umur: 859\n",
      "nama : person860, umur: 860\n",
      "nama : person861, umur: 861\n",
      "nama : person862, umur: 862\n",
      "nama : person863, umur: 863\n",
      "nama : person864, umur: 864\n",
      "nama : person865, umur: 865\n",
      "nama : person866, umur: 866\n",
      "nama : person867, umur: 867\n",
      "nama : person868, umur: 868\n",
      "nama : person869, umur: 869\n",
      "nama : person870, umur: 870\n",
      "nama : person871, umur: 871\n",
      "nama : person872, umur: 872\n",
      "nama : person873, umur: 873\n",
      "nama : person874, umur: 874\n",
      "nama : person875, umur: 875\n",
      "nama : person876, umur: 876\n",
      "nama : person877, umur: 877\n",
      "nama : person878, umur: 878\n",
      "nama : person879, umur: 879\n",
      "nama : person880, umur: 880\n",
      "nama : person881, umur: 881\n",
      "nama : person882, umur: 882\n",
      "nama : person883, umur: 883\n",
      "nama : person884, umur: 884\n",
      "nama : person885, umur: 885\n",
      "nama : person886, umur: 886\n",
      "nama : person887, umur: 887\n",
      "nama : person888, umur: 888\n",
      "nama : person889, umur: 889\n",
      "nama : person890, umur: 890\n",
      "nama : person891, umur: 891\n",
      "nama : person892, umur: 892\n",
      "nama : person893, umur: 893\n",
      "nama : person894, umur: 894\n",
      "nama : person895, umur: 895\n",
      "nama : person896, umur: 896\n",
      "nama : person897, umur: 897\n",
      "nama : person898, umur: 898\n",
      "nama : person899, umur: 899\n",
      "nama : person900, umur: 900\n",
      "nama : person901, umur: 901\n",
      "nama : person902, umur: 902\n",
      "nama : person903, umur: 903\n",
      "nama : person904, umur: 904\n",
      "nama : person905, umur: 905\n",
      "nama : person906, umur: 906\n",
      "nama : person907, umur: 907\n",
      "nama : person908, umur: 908\n",
      "nama : person909, umur: 909\n",
      "nama : person910, umur: 910\n",
      "nama : person911, umur: 911\n",
      "nama : person912, umur: 912\n",
      "nama : person913, umur: 913\n",
      "nama : person914, umur: 914\n",
      "nama : person915, umur: 915\n",
      "nama : person916, umur: 916\n",
      "nama : person917, umur: 917\n",
      "nama : person918, umur: 918\n",
      "nama : person919, umur: 919\n",
      "nama : person920, umur: 920\n",
      "nama : person921, umur: 921\n",
      "nama : person922, umur: 922\n",
      "nama : person923, umur: 923\n",
      "nama : person924, umur: 924\n",
      "nama : person925, umur: 925\n",
      "nama : person926, umur: 926\n",
      "nama : person927, umur: 927\n",
      "nama : person928, umur: 928\n",
      "nama : person929, umur: 929\n",
      "nama : person930, umur: 930\n",
      "nama : person931, umur: 931\n",
      "nama : person932, umur: 932\n",
      "nama : person933, umur: 933\n",
      "nama : person934, umur: 934\n",
      "nama : person935, umur: 935\n",
      "nama : person936, umur: 936\n",
      "nama : person937, umur: 937\n",
      "nama : person938, umur: 938\n",
      "nama : person939, umur: 939\n",
      "nama : person940, umur: 940\n",
      "nama : person941, umur: 941\n",
      "nama : person942, umur: 942\n",
      "nama : person943, umur: 943\n",
      "nama : person944, umur: 944\n",
      "nama : person945, umur: 945\n",
      "nama : person946, umur: 946\n",
      "nama : person947, umur: 947\n",
      "nama : person948, umur: 948\n",
      "nama : person949, umur: 949\n",
      "nama : person950, umur: 950\n",
      "nama : person951, umur: 951\n",
      "nama : person952, umur: 952\n",
      "nama : person953, umur: 953\n",
      "nama : person954, umur: 954\n",
      "nama : person955, umur: 955\n",
      "nama : person956, umur: 956\n",
      "nama : person957, umur: 957\n",
      "nama : person958, umur: 958\n",
      "nama : person959, umur: 959\n",
      "nama : person960, umur: 960\n",
      "nama : person961, umur: 961\n",
      "nama : person962, umur: 962\n",
      "nama : person963, umur: 963\n",
      "nama : person964, umur: 964\n",
      "nama : person965, umur: 965\n",
      "nama : person966, umur: 966\n",
      "nama : person967, umur: 967\n",
      "nama : person968, umur: 968\n",
      "nama : person969, umur: 969\n",
      "nama : person970, umur: 970\n",
      "nama : person971, umur: 971\n",
      "nama : person972, umur: 972\n",
      "nama : person973, umur: 973\n",
      "nama : person974, umur: 974\n",
      "nama : person975, umur: 975\n",
      "nama : person976, umur: 976\n",
      "nama : person977, umur: 977\n",
      "nama : person978, umur: 978\n",
      "nama : person979, umur: 979\n",
      "nama : person980, umur: 980\n",
      "nama : person981, umur: 981\n",
      "nama : person982, umur: 982\n",
      "nama : person983, umur: 983\n",
      "nama : person984, umur: 984\n",
      "nama : person985, umur: 985\n",
      "nama : person986, umur: 986\n",
      "nama : person987, umur: 987\n",
      "nama : person988, umur: 988\n",
      "nama : person989, umur: 989\n",
      "nama : person990, umur: 990\n",
      "nama : person991, umur: 991\n",
      "nama : person992, umur: 992\n",
      "nama : person993, umur: 993\n",
      "nama : person994, umur: 994\n",
      "nama : person995, umur: 995\n",
      "nama : person996, umur: 996\n",
      "nama : person997, umur: 997\n",
      "nama : person998, umur: 998\n",
      "nama : person999, umur: 999\n",
      "nama : person1000, umur: 1000\n"
     ]
    }
   ],
   "source": [
    "#membuat perulangan class dan object\n",
    "class Person:\n",
    "    def __init__(self, nama, umur):\n",
    "        self.nama = nama\n",
    "        self.umur = umur\n",
    "    def getData(self):\n",
    "        return \"nama : \" + self.nama + \", umur: \" + str(self.umur)\n",
    "\n",
    "person = [] #list person\n",
    "#Buat 1000 object\n",
    "for i in range(0, 1001):\n",
    "    person.append(Person(\"person\" + str(i), i))\n",
    "\n",
    "#Cetak 1000 object    \n",
    "for j in range(0, 1001):\n",
    "    print(person[j].getData())"
   ]
  },
  {
   "cell_type": "markdown",
   "metadata": {},
   "source": [
    "### Contoh class tidak memakai fungsi __init__"
   ]
  },
  {
   "cell_type": "code",
   "execution_count": 19,
   "metadata": {},
   "outputs": [
    {
     "name": "stdout",
     "output_type": "stream",
     "text": [
      "('nama_mobil: Avanza, warna_mobil: Putih', 'merek_mobil: Toyota')\n"
     ]
    }
   ],
   "source": [
    "#class dan objects\n",
    "class Car:\n",
    "    def setMerek(self, merek):\n",
    "        self.merek = merek\n",
    "    def setColour(self, colour):\n",
    "        self.colour = colour\n",
    "    def setName(self, name):\n",
    "        self.name = name\n",
    "    def getCar(self):\n",
    "        return \"nama_mobil: \" + self.name + \", warna_mobil: \" + self.colour, \"merek_mobil: \" + self.merek\n",
    "\n",
    "#panggil classnya\n",
    "avanza = Car()\n",
    "\n",
    "#panggil fungsi/methodnya\n",
    "avanza.setMerek(\"Toyota\")\n",
    "avanza.setColour(\"Putih\")\n",
    "avanza.setName(\"Avanza\")\n",
    "\n",
    "#print object\n",
    "print(avanza.getCar())"
   ]
  },
  {
   "cell_type": "code",
   "execution_count": null,
   "metadata": {},
   "outputs": [],
   "source": []
  }
 ],
 "metadata": {
  "kernelspec": {
   "display_name": "Python 3",
   "language": "python",
   "name": "python3"
  },
  "language_info": {
   "codemirror_mode": {
    "name": "ipython",
    "version": 3
   },
   "file_extension": ".py",
   "mimetype": "text/x-python",
   "name": "python",
   "nbconvert_exporter": "python",
   "pygments_lexer": "ipython3",
   "version": "3.6.5"
  }
 },
 "nbformat": 4,
 "nbformat_minor": 2
}
