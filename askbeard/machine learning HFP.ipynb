{
 "cells": [
  {
   "cell_type": "code",
   "execution_count": 1,
   "metadata": {},
   "outputs": [],
   "source": [
    "import pandas as pd\n",
    "import numpy as np"
   ]
  },
  {
   "cell_type": "code",
   "execution_count": 2,
   "metadata": {
    "scrolled": true
   },
   "outputs": [],
   "source": [
    "# df_hf = pd.read_csv('heartfail.csv')\n",
    "# df_hf"
   ]
  },
  {
   "cell_type": "code",
   "execution_count": 3,
   "metadata": {},
   "outputs": [],
   "source": [
    "# #visualisasi data\n",
    "# import seaborn as sns\n",
    "\n",
    "# #histogram age distribution\n",
    "# import matplotlib as mpl\n",
    "# import matplotlib.pyplot as plt\n",
    "\n",
    "# hist_age = df_hf['age'].plot(kind='hist', bins=50)\n",
    "# hist_age\n",
    "# sns.displot(df_hf['age'], bins=50)"
   ]
  },
  {
   "cell_type": "code",
   "execution_count": 4,
   "metadata": {
    "scrolled": true
   },
   "outputs": [],
   "source": [
    "# #pie chart\n",
    "# male = df_HF[df_HF[\"sex\"] == 1]\n",
    "# female = df_HF[df_HF[\"sex\"] == 0]\n",
    "\n",
    "# male_survived = len(male[df_HF[\"DEATH_EVENT\"] == 0])\n",
    "# male_not_survived = len(male[df_HF[\"DEATH_EVENT\"] == 1])\n",
    "# female_survived = len(female[df_HF[\"DEATH_EVENT\"] == 0])\n",
    "# female_not_survived = len(female[df_HF[\"DEATH_EVENT\"] == 1])\n",
    "\n",
    "# labels = 'Male Survived', 'Male not Survived', 'Female Survived', 'Female not Survived'\n",
    "# size = [male_survived, male_not_survived, female_survived, female_not_survived]\n",
    "\n",
    "# plt.pie(size, labels = labels, autopct= '%1.1f%%')\n",
    "# plt.axis('equal')\n",
    "# plt.show()"
   ]
  },
  {
   "cell_type": "code",
   "execution_count": 5,
   "metadata": {},
   "outputs": [
    {
     "ename": "NameError",
     "evalue": "name 'df_HF' is not defined",
     "output_type": "error",
     "traceback": [
      "\u001b[1;31m---------------------------------------------------------------------------\u001b[0m",
      "\u001b[1;31mNameError\u001b[0m                                 Traceback (most recent call last)",
      "\u001b[1;32m<ipython-input-5-0fd8c530b1cd>\u001b[0m in \u001b[0;36m<module>\u001b[1;34m\u001b[0m\n\u001b[1;32m----> 1\u001b[1;33m \u001b[0mdf_HF\u001b[0m\u001b[1;33m.\u001b[0m\u001b[0mcorr\u001b[0m\u001b[1;33m(\u001b[0m\u001b[1;33m)\u001b[0m\u001b[1;33m\u001b[0m\u001b[1;33m\u001b[0m\u001b[0m\n\u001b[0m",
      "\u001b[1;31mNameError\u001b[0m: name 'df_HF' is not defined"
     ]
    }
   ],
   "source": [
    "df_HF.corr()"
   ]
  },
  {
   "cell_type": "code",
   "execution_count": null,
   "metadata": {
    "scrolled": true
   },
   "outputs": [],
   "source": [
    "# corr = df_HF.corr()\n",
    "# plt.figure(figsize=(16,9))\n",
    "# sns.heatmap(corr, annot=True, cmap=plt.cm.Reds)\n",
    "# plt.show()"
   ]
  },
  {
   "cell_type": "code",
   "execution_count": null,
   "metadata": {},
   "outputs": [],
   "source": [
    "# from sklearn.model_selection import train_test_split\n",
    "# Features = ['time', 'ejection_fraction', 'serum_creatinine', 'age', 'anaemia', 'high_blood_pressure']\n",
    "# x = df_HF[Features]\n",
    "# y = df_HF[\"DEATH_EVENT\"]\n",
    "# x_train, x_test, y_train, y_test = train_test_split(x, y, test_size = 0.2, random_state = 1)"
   ]
  },
  {
   "cell_type": "code",
   "execution_count": null,
   "metadata": {},
   "outputs": [],
   "source": [
    "# from sklearn.linear_model import LogisticRegression\n",
    "# from sklearn.svm import SVC\n",
    "# from sklearn.neighbors import KNeighborsClassifier\n",
    "# from sklearn.ensemble import RandomForestClassifier\n",
    "\n",
    "# from sklearn.metrics import confusion_matrix, accuracy_score, plot_confusion_matrix, classification_report"
   ]
  },
  {
   "cell_type": "markdown",
   "metadata": {},
   "source": [
    "# Logistic Regression"
   ]
  },
  {
   "cell_type": "code",
   "execution_count": 17,
   "metadata": {},
   "outputs": [
    {
     "data": {
      "image/png": "[encoded data removed]",
      "text/plain": [
       "<Figure size 432x288 with 2 Axes>"
      ]
     },
     "metadata": {
      "needs_background": "light"
     },
     "output_type": "display_data"
    },
    {
     "name": "stdout",
     "output_type": "stream",
     "text": [
      "              precision    recall  f1-score   support\n",
      "\n",
      "           0       0.91      0.93      0.92        45\n",
      "           1       0.79      0.73      0.76        15\n",
      "\n",
      "    accuracy                           0.88        60\n",
      "   macro avg       0.85      0.83      0.84        60\n",
      "weighted avg       0.88      0.88      0.88        60\n",
      "\n",
      "0.8833333333333333\n",
      "[[42  3]\n",
      " [ 4 11]]\n"
     ]
    }
   ],
   "source": [
    "import pandas as pd\n",
    "import matplotlib.pyplot as plt\n",
    "from sklearn.model_selection import train_test_split\n",
    "from sklearn.linear_model import LogisticRegression\n",
    "from sklearn.metrics import plot_confusion_matrix, confusion_matrix, accuracy_score, classification_report\n",
    "\n",
    "df_hf = pd.read_csv('heartfail.csv')\n",
    "Features = ['time', 'ejection_fraction', 'serum_creatinine', 'age', 'anaemia', 'high_blood_pressure']\n",
    "x = df_hf[Features]\n",
    "y = df_hf['DEATH_EVENT']\n",
    "\n",
    "x_train, x_test, y_train, y_test = train_test_split(x, y, test_size=0.2, random_state=1)\n",
    "\n",
    "log_reg = LogisticRegression()\n",
    "log_reg.fit(x_train, y_train)\n",
    "log_reg_pred = log_reg.predict(x_test)\n",
    "log_reg_acc = accuracy_score(y_test, log_reg_pred)\n",
    "\n",
    "# check score\n",
    "log_reg_acc\n",
    "\n",
    "# visualisasi data\n",
    "# evaluasi matrix\n",
    "plot_confusion_matrix(log_reg, x_test, y_test)\n",
    "plt.title('Logistic Regression Model')\n",
    "plt.xticks(range(2), ['Heart Not Fail', 'Heart Fail'], fontsize=11)\n",
    "plt.yticks(range(2), ['Heart Not Fail', 'Heart Fail'], fontsize=11)\n",
    "plt.show()\n",
    "\n",
    "# f1-score\n",
    "print(classification_report(log_reg_pred, y_test))\n",
    "print(accuracy_score(log_reg_pred, y_test))\n",
    "print(confusion_matrix(log_reg_pred, y_test))"
   ]
  },
  {
   "cell_type": "code",
   "execution_count": null,
   "metadata": {},
   "outputs": [],
   "source": [
    "# #F1-score\n",
    "# print(accuracy_score(log_reg_pred, y_test))\n",
    "\n",
    "# print(classification_report(y_test, log_reg_pred))\n",
    "# print(confusion_matrix(y_test, log_reg_pred))"
   ]
  },
  {
   "cell_type": "markdown",
   "metadata": {},
   "source": [
    "# SVM"
   ]
  },
  {
   "cell_type": "code",
   "execution_count": 21,
   "metadata": {},
   "outputs": [
    {
     "data": {
      "image/png": "[encoded data removed]",
      "text/plain": [
       "<Figure size 432x288 with 2 Axes>"
      ]
     },
     "metadata": {
      "needs_background": "light"
     },
     "output_type": "display_data"
    }
   ],
   "source": [
    "import pandas as pd\n",
    "import matplotlib.pyplot as plt\n",
    "from sklearn.model_selection import train_test_split\n",
    "from sklearn.metrics import plot_confusion_matrix, confusion_matrix, accuracy_score\n",
    "from sklearn.svm import SVC\n",
    "\n",
    "df_hf = pd.read_csv('heartfail.csv')\n",
    "Features = ['time', 'ejection_fraction', 'serum_creatinine', 'age', 'anaemia', 'high_blood_pressure']\n",
    "x = Features\n",
    "y = df_hf['DEATH_EVENT']\n",
    "\n",
    "# x_train, x_test, y_train, y_test = train_test_split(x, y, test_size=0.2, random_state=1)\n",
    "\n",
    "sv_clf = SVC(kernel='rbf')\n",
    "sv_clf.fit(x_train, y_train)\n",
    "sv_clf_pred = sv_clf.predict(x_test)\n",
    "sv_clf_acc = accuracy_score(y_test, sv_clf_pred)\n",
    "sv_clf_acc\n",
    "\n",
    "# visualisasi data\n",
    "# evaluasi matriks\n",
    "plot_confusion_matrix(sv_clf, x_test, y_test)\n",
    "plt.title('Support Vector Machine')\n",
    "plt.xticks(range(2), ['Heart Not Fail', 'Heart Fail'], fontsize=11)\n",
    "plt.yticks(range(2), ['Heart Not Fail', 'Heart Fail'], fontsize=11)\n",
    "plt.show()"
   ]
  },
  {
   "cell_type": "code",
   "execution_count": null,
   "metadata": {},
   "outputs": [],
   "source": [
    "sv_clf_acc"
   ]
  },
  {
   "cell_type": "code",
   "execution_count": null,
   "metadata": {},
   "outputs": [],
   "source": [
    "plot_confusion_matrix(sv_clf, x_test, y_test)\n",
    "plt.title(\"Support Vector Machine Model\")\n",
    "plt.xticks(range(2), [\"Heart Not Failed\", \"Heart Fail\"], fontsize=11)\n",
    "plt.yticks(range(2), [\"Heart Not Failed\", \"Heart Fail\"], fontsize=11)\n",
    "plt.show()"
   ]
  },
  {
   "cell_type": "markdown",
   "metadata": {},
   "source": [
    "# KNN"
   ]
  },
  {
   "cell_type": "code",
   "execution_count": 23,
   "metadata": {},
   "outputs": [
    {
     "data": {
      "image/png": "[encoded data removed]",
      "text/plain": [
       "<Figure size 432x288 with 2 Axes>"
      ]
     },
     "metadata": {
      "needs_background": "light"
     },
     "output_type": "display_data"
    }
   ],
   "source": [
    "import pandas as pd\n",
    "import matplotlib.pyplot as plt\n",
    "from sklearn.model_selection import train_test_split\n",
    "from sklearn.neighbors import KNeighborsClassifier\n",
    "from sklearn.metrics import plot_confusion_matrix\n",
    "\n",
    "df_hf = pd.read_csv('heartfail.csv')\n",
    "Features = ['time', 'ejection_fraction', 'serum_creatinine', 'age', 'anaemia', 'high_blood_pressure']\n",
    "x = Features\n",
    "y = df_hf['DEATH_EVENT']\n",
    "\n",
    "# x_train, x_test, y_train, y_test = train_test_split(x, y, test_size=0.2, random_state=1)\n",
    "\n",
    "knn_clf = KNeighborsClassifier(n_neighbors = 2)\n",
    "knn_clf.fit(x_train, y_train)\n",
    "knn_pred = knn_clf.predict(x_test)\n",
    "knn_acc = accuracy_score(y_test, knn_pred)\n",
    "knn_acc\n",
    "\n",
    "# evaluasi matrix\n",
    "plot_confusion_matrix(knn_clf, x_test, y_test)\n",
    "plt.title(\"K-Nearest Neighbors Model\")\n",
    "plt.xticks(range(2), ['Heart Not Fail', 'Heart Fail'], fontsize=11)\n",
    "plt.yticks(range(2), ['Heart Not Fail', 'Heart Fail'], fontsize=11)\n",
    "plt.show()"
   ]
  },
  {
   "cell_type": "code",
   "execution_count": null,
   "metadata": {},
   "outputs": [],
   "source": [
    "knn_acc"
   ]
  },
  {
   "cell_type": "code",
   "execution_count": null,
   "metadata": {
    "scrolled": true
   },
   "outputs": [],
   "source": [
    "plot_confusion_matrix(knn_clf, x_test, y_test)\n",
    "plt.title(\"K-Nearest Neighbors Model\")\n",
    "plt.xticks(range(2), [\"Heart Not Failed\", \"Heart Fail\"], fontsize=11)\n",
    "plt.yticks(range(2), [\"Heart Not Failed\", \"Heart Fail\"], fontsize=11)\n",
    "plt.show()"
   ]
  },
  {
   "cell_type": "markdown",
   "metadata": {},
   "source": [
    "# Random Forest"
   ]
  },
  {
   "cell_type": "code",
   "execution_count": 24,
   "metadata": {},
   "outputs": [
    {
     "data": {
      "image/png": "[encoded data removed]",
      "text/plain": [
       "<Figure size 432x288 with 2 Axes>"
      ]
     },
     "metadata": {
      "needs_background": "light"
     },
     "output_type": "display_data"
    }
   ],
   "source": [
    "import pandas as pd\n",
    "import matplotlib.pyplot as plt\n",
    "from sklearn.model_selection import train_test_split\n",
    "from sklearn.ensemble import RandomForestClassifier\n",
    "from sklearn.metrics import plot_confusion_matrix\n",
    "\n",
    "df_hf = pd.read_csv('heartfail.csv')\n",
    "Features = ['time', 'ejection_fraction', 'serum_creatinine', 'age', 'anaemia', 'high_blood_pressure']\n",
    "x = Features\n",
    "y = df_hf['DEATH_EVENT']\n",
    "\n",
    "# x_train, x_test, y_train, y_test = train_test_split(x, y, test_size=0.2, random_state=1)\n",
    "\n",
    "rf_clf = RandomForestClassifier(max_features=0.5, max_depth=15, random_state = 1)\n",
    "rf_clf.fit(x_train, y_train)\n",
    "rf_pred = rf_clf.predict(x_test)\n",
    "rf_acc = accuracy_score(y_test, rf_pred)\n",
    "\n",
    "plot_confusion_matrix(rf_clf, x_test, y_test)\n",
    "plt.title(\"Random Forest Model\")\n",
    "plt.xticks(range(2), [\"Heart Not Failed\", \"Heart Fail\"], fontsize=11)\n",
    "plt.yticks(range(2), [\"Heart Not Failed\", \"Heart Fail\"], fontsize=11)\n",
    "plt.show()"
   ]
  },
  {
   "cell_type": "code",
   "execution_count": null,
   "metadata": {},
   "outputs": [],
   "source": [
    "rf_acc"
   ]
  },
  {
   "cell_type": "code",
   "execution_count": null,
   "metadata": {},
   "outputs": [],
   "source": [
    "plot_confusion_matrix(rf_clf, x_test, y_test)\n",
    "plt.title(\"Random Forest Model\")\n",
    "plt.xticks(range(2), [\"Heart Not Failed\", \"Heart Fail\"], fontsize=11)\n",
    "plt.yticks(range(2), [\"Heart Not Failed\", \"Heart Fail\"], fontsize=11)\n",
    "plt.show()"
   ]
  },
  {
   "cell_type": "markdown",
   "metadata": {},
   "source": [
    "# Neural Network"
   ]
  },
  {
   "cell_type": "code",
   "execution_count": 31,
   "metadata": {
    "scrolled": true
   },
   "outputs": [
    {
     "name": "stdout",
     "output_type": "stream",
     "text": [
      "Epoch 1/100\n",
      "80/80 [==============================] - 4s 10ms/step - loss: 0.6901 - accuracy: 0.5534 - val_loss: 0.6717 - val_accuracy: 0.7333\n",
      "Epoch 2/100\n",
      "80/80 [==============================] - 1s 12ms/step - loss: 0.6638 - accuracy: 0.7292 - val_loss: 0.6218 - val_accuracy: 0.7333\n",
      "Epoch 3/100\n",
      "80/80 [==============================] - 1s 10ms/step - loss: 0.6457 - accuracy: 0.6039 - val_loss: 0.5548 - val_accuracy: 0.7333\n",
      "Epoch 4/100\n",
      "80/80 [==============================] - 1s 8ms/step - loss: 0.5867 - accuracy: 0.6772 - val_loss: 0.5194 - val_accuracy: 0.7333\n",
      "Epoch 5/100\n",
      "80/80 [==============================] - 1s 9ms/step - loss: 0.6140 - accuracy: 0.6149 - val_loss: 0.4960 - val_accuracy: 0.7333\n",
      "Epoch 6/100\n",
      "80/80 [==============================] - 1s 8ms/step - loss: 0.5969 - accuracy: 0.6148 - val_loss: 0.4619 - val_accuracy: 0.7333\n",
      "Epoch 7/100\n",
      "80/80 [==============================] - 0s 5ms/step - loss: 0.4938 - accuracy: 0.7405 - val_loss: 0.4377 - val_accuracy: 0.8333\n",
      "Epoch 8/100\n",
      "80/80 [==============================] - 1s 8ms/step - loss: 0.5153 - accuracy: 0.7555 - val_loss: 0.4037 - val_accuracy: 0.8667\n",
      "Epoch 9/100\n",
      "80/80 [==============================] - 1s 10ms/step - loss: 0.4937 - accuracy: 0.7644 - val_loss: 0.3611 - val_accuracy: 0.9000\n",
      "Epoch 10/100\n",
      "80/80 [==============================] - 1s 8ms/step - loss: 0.4418 - accuracy: 0.7960 - val_loss: 0.3347 - val_accuracy: 0.9667\n",
      "Epoch 11/100\n",
      "80/80 [==============================] - 0s 5ms/step - loss: 0.4309 - accuracy: 0.8520 - val_loss: 0.3162 - val_accuracy: 0.9667\n",
      "Epoch 12/100\n",
      "80/80 [==============================] - 0s 4ms/step - loss: 0.4366 - accuracy: 0.8403 - val_loss: 0.3069 - val_accuracy: 0.9667\n",
      "Epoch 13/100\n",
      "80/80 [==============================] - 0s 5ms/step - loss: 0.5249 - accuracy: 0.7324 - val_loss: 0.2861 - val_accuracy: 0.9667\n",
      "Epoch 14/100\n",
      "80/80 [==============================] - 0s 4ms/step - loss: 0.4081 - accuracy: 0.8201 - val_loss: 0.2700 - val_accuracy: 0.9667\n",
      "Epoch 15/100\n",
      "80/80 [==============================] - 0s 4ms/step - loss: 0.4122 - accuracy: 0.8463 - val_loss: 0.2644 - val_accuracy: 0.9667\n",
      "Epoch 16/100\n",
      "80/80 [==============================] - 0s 4ms/step - loss: 0.4089 - accuracy: 0.8152 - val_loss: 0.2691 - val_accuracy: 0.9667\n",
      "Epoch 17/100\n",
      "80/80 [==============================] - 0s 4ms/step - loss: 0.3768 - accuracy: 0.8418 - val_loss: 0.2628 - val_accuracy: 0.9667\n",
      "Epoch 18/100\n",
      "80/80 [==============================] - 0s 4ms/step - loss: 0.4061 - accuracy: 0.8567 - val_loss: 0.2454 - val_accuracy: 0.9667\n",
      "Epoch 19/100\n",
      "80/80 [==============================] - 0s 4ms/step - loss: 0.3984 - accuracy: 0.8367 - val_loss: 0.2561 - val_accuracy: 0.9667\n",
      "Epoch 20/100\n",
      "80/80 [==============================] - 0s 5ms/step - loss: 0.3807 - accuracy: 0.8408 - val_loss: 0.2274 - val_accuracy: 0.9667\n",
      "Epoch 21/100\n",
      "80/80 [==============================] - 0s 5ms/step - loss: 0.3997 - accuracy: 0.8411 - val_loss: 0.2680 - val_accuracy: 0.9667\n",
      "Epoch 22/100\n",
      "80/80 [==============================] - 0s 6ms/step - loss: 0.3627 - accuracy: 0.8375 - val_loss: 0.2238 - val_accuracy: 0.9667\n",
      "Epoch 23/100\n",
      "80/80 [==============================] - 0s 5ms/step - loss: 0.3200 - accuracy: 0.8599 - val_loss: 0.2273 - val_accuracy: 0.9667\n",
      "Epoch 24/100\n",
      "80/80 [==============================] - 0s 5ms/step - loss: 0.3934 - accuracy: 0.8326 - val_loss: 0.2379 - val_accuracy: 0.9667\n",
      "Epoch 25/100\n",
      "80/80 [==============================] - 0s 4ms/step - loss: 0.3941 - accuracy: 0.8286 - val_loss: 0.2349 - val_accuracy: 0.9667\n",
      "Epoch 26/100\n",
      "80/80 [==============================] - 0s 4ms/step - loss: 0.4138 - accuracy: 0.8254 - val_loss: 0.2272 - val_accuracy: 0.9667\n",
      "Epoch 27/100\n",
      "80/80 [==============================] - 0s 4ms/step - loss: 0.3727 - accuracy: 0.8155 - val_loss: 0.2071 - val_accuracy: 0.9667\n",
      "Epoch 28/100\n",
      "80/80 [==============================] - 0s 4ms/step - loss: 0.3638 - accuracy: 0.8394 - val_loss: 0.2075 - val_accuracy: 0.9667\n",
      "Epoch 29/100\n",
      "80/80 [==============================] - 0s 4ms/step - loss: 0.3436 - accuracy: 0.8695 - val_loss: 0.2036 - val_accuracy: 0.9667\n",
      "Epoch 30/100\n",
      "80/80 [==============================] - 0s 4ms/step - loss: 0.3752 - accuracy: 0.8515 - val_loss: 0.1897 - val_accuracy: 1.0000\n",
      "Epoch 31/100\n",
      "80/80 [==============================] - 0s 3ms/step - loss: 0.3936 - accuracy: 0.8136 - val_loss: 0.2042 - val_accuracy: 0.9667\n",
      "Epoch 32/100\n",
      "80/80 [==============================] - 0s 3ms/step - loss: 0.3900 - accuracy: 0.8169 - val_loss: 0.1998 - val_accuracy: 0.9667\n",
      "Epoch 33/100\n",
      "80/80 [==============================] - 0s 3ms/step - loss: 0.3646 - accuracy: 0.8398 - val_loss: 0.1875 - val_accuracy: 0.9667\n",
      "Epoch 34/100\n",
      "80/80 [==============================] - 0s 3ms/step - loss: 0.3562 - accuracy: 0.8355 - val_loss: 0.2032 - val_accuracy: 0.9667\n",
      "Epoch 35/100\n",
      "80/80 [==============================] - 0s 3ms/step - loss: 0.3735 - accuracy: 0.8574 - val_loss: 0.1914 - val_accuracy: 0.9667\n",
      "Epoch 36/100\n",
      "80/80 [==============================] - 0s 3ms/step - loss: 0.3549 - accuracy: 0.8494 - val_loss: 0.1825 - val_accuracy: 1.0000\n",
      "Epoch 37/100\n",
      "80/80 [==============================] - 0s 3ms/step - loss: 0.3737 - accuracy: 0.8172 - val_loss: 0.1793 - val_accuracy: 1.0000\n",
      "Epoch 38/100\n",
      "80/80 [==============================] - 0s 3ms/step - loss: 0.4140 - accuracy: 0.8049 - val_loss: 0.1805 - val_accuracy: 1.0000\n",
      "Epoch 39/100\n",
      "80/80 [==============================] - 0s 3ms/step - loss: 0.4044 - accuracy: 0.8115 - val_loss: 0.1719 - val_accuracy: 1.0000\n",
      "Epoch 40/100\n",
      "80/80 [==============================] - 0s 3ms/step - loss: 0.3627 - accuracy: 0.8286 - val_loss: 0.1875 - val_accuracy: 0.9667\n",
      "Epoch 41/100\n",
      "80/80 [==============================] - 0s 3ms/step - loss: 0.3833 - accuracy: 0.8131 - val_loss: 0.1739 - val_accuracy: 1.0000\n",
      "Epoch 42/100\n",
      "80/80 [==============================] - 0s 3ms/step - loss: 0.3419 - accuracy: 0.8573 - val_loss: 0.1924 - val_accuracy: 0.9667\n",
      "Epoch 43/100\n",
      "80/80 [==============================] - 0s 3ms/step - loss: 0.4125 - accuracy: 0.7752 - val_loss: 0.1757 - val_accuracy: 1.0000\n",
      "Epoch 44/100\n",
      "80/80 [==============================] - 0s 3ms/step - loss: 0.3459 - accuracy: 0.8402 - val_loss: 0.1778 - val_accuracy: 0.9667\n",
      "Epoch 45/100\n",
      "80/80 [==============================] - 0s 3ms/step - loss: 0.3317 - accuracy: 0.8550 - val_loss: 0.1816 - val_accuracy: 0.9667\n",
      "Epoch 46/100\n",
      "80/80 [==============================] - 0s 4ms/step - loss: 0.3900 - accuracy: 0.8296 - val_loss: 0.1647 - val_accuracy: 1.0000\n",
      "Epoch 47/100\n",
      "80/80 [==============================] - 0s 3ms/step - loss: 0.3749 - accuracy: 0.8388 - val_loss: 0.1696 - val_accuracy: 1.0000\n",
      "Epoch 48/100\n",
      "80/80 [==============================] - 0s 3ms/step - loss: 0.3740 - accuracy: 0.8382 - val_loss: 0.1550 - val_accuracy: 0.9667\n",
      "Epoch 49/100\n",
      "80/80 [==============================] - 0s 3ms/step - loss: 0.3571 - accuracy: 0.8526 - val_loss: 0.1719 - val_accuracy: 1.0000\n",
      "Epoch 50/100\n",
      "80/80 [==============================] - 0s 3ms/step - loss: 0.3477 - accuracy: 0.8601 - val_loss: 0.1932 - val_accuracy: 0.9667\n",
      "Epoch 51/100\n",
      "80/80 [==============================] - 0s 3ms/step - loss: 0.3471 - accuracy: 0.8514 - val_loss: 0.1733 - val_accuracy: 1.0000\n",
      "Epoch 52/100\n",
      "80/80 [==============================] - 0s 3ms/step - loss: 0.3405 - accuracy: 0.8553 - val_loss: 0.1781 - val_accuracy: 0.9667\n",
      "Epoch 53/100\n",
      "80/80 [==============================] - 0s 3ms/step - loss: 0.3327 - accuracy: 0.8543 - val_loss: 0.1554 - val_accuracy: 1.0000\n",
      "Epoch 54/100\n",
      "80/80 [==============================] - 0s 3ms/step - loss: 0.3689 - accuracy: 0.8397 - val_loss: 0.1668 - val_accuracy: 1.0000\n",
      "Epoch 55/100\n",
      "80/80 [==============================] - 0s 3ms/step - loss: 0.3430 - accuracy: 0.8289 - val_loss: 0.1539 - val_accuracy: 1.0000\n",
      "Epoch 56/100\n",
      "80/80 [==============================] - 0s 3ms/step - loss: 0.3745 - accuracy: 0.8327 - val_loss: 0.1686 - val_accuracy: 1.0000\n",
      "Epoch 57/100\n",
      "80/80 [==============================] - 0s 3ms/step - loss: 0.3812 - accuracy: 0.8109 - val_loss: 0.1590 - val_accuracy: 1.0000\n",
      "Epoch 58/100\n",
      "80/80 [==============================] - 0s 3ms/step - loss: 0.3244 - accuracy: 0.8656 - val_loss: 0.1650 - val_accuracy: 1.0000\n"
     ]
    },
    {
     "name": "stdout",
     "output_type": "stream",
     "text": [
      "Epoch 59/100\n",
      "80/80 [==============================] - 0s 3ms/step - loss: 0.3804 - accuracy: 0.8417 - val_loss: 0.1646 - val_accuracy: 1.0000\n",
      "Epoch 60/100\n",
      "80/80 [==============================] - 0s 3ms/step - loss: 0.3387 - accuracy: 0.8316 - val_loss: 0.1800 - val_accuracy: 0.9667\n",
      "Epoch 61/100\n",
      "80/80 [==============================] - 0s 3ms/step - loss: 0.3138 - accuracy: 0.8585 - val_loss: 0.1744 - val_accuracy: 0.9667\n",
      "Epoch 62/100\n",
      "80/80 [==============================] - 0s 3ms/step - loss: 0.3469 - accuracy: 0.8602 - val_loss: 0.1560 - val_accuracy: 1.0000\n",
      "Epoch 63/100\n",
      "80/80 [==============================] - 0s 3ms/step - loss: 0.3663 - accuracy: 0.8209 - val_loss: 0.1737 - val_accuracy: 0.9667\n",
      "Epoch 64/100\n",
      "80/80 [==============================] - 0s 3ms/step - loss: 0.3502 - accuracy: 0.8334 - val_loss: 0.1695 - val_accuracy: 0.9667\n",
      "Epoch 65/100\n",
      "80/80 [==============================] - 0s 4ms/step - loss: 0.3347 - accuracy: 0.8477 - val_loss: 0.1605 - val_accuracy: 1.0000\n",
      "Epoch 66/100\n",
      "80/80 [==============================] - 0s 3ms/step - loss: 0.2584 - accuracy: 0.9099 - val_loss: 0.1597 - val_accuracy: 1.0000\n",
      "Epoch 67/100\n",
      "80/80 [==============================] - 0s 3ms/step - loss: 0.2852 - accuracy: 0.8759 - val_loss: 0.1618 - val_accuracy: 1.0000\n",
      "Epoch 68/100\n",
      "80/80 [==============================] - 0s 3ms/step - loss: 0.3297 - accuracy: 0.8637 - val_loss: 0.1572 - val_accuracy: 1.0000\n",
      "Epoch 69/100\n",
      "80/80 [==============================] - 0s 4ms/step - loss: 0.3138 - accuracy: 0.8553 - val_loss: 0.1747 - val_accuracy: 0.9667\n",
      "Epoch 70/100\n",
      "80/80 [==============================] - 0s 3ms/step - loss: 0.3131 - accuracy: 0.8549 - val_loss: 0.1509 - val_accuracy: 0.9667\n",
      "Epoch 71/100\n",
      "80/80 [==============================] - 0s 3ms/step - loss: 0.4251 - accuracy: 0.8485 - val_loss: 0.1536 - val_accuracy: 1.0000\n",
      "Epoch 72/100\n",
      "80/80 [==============================] - 0s 3ms/step - loss: 0.3723 - accuracy: 0.8239 - val_loss: 0.1501 - val_accuracy: 1.0000\n",
      "Epoch 73/100\n",
      "80/80 [==============================] - 0s 3ms/step - loss: 0.3095 - accuracy: 0.8759 - val_loss: 0.1476 - val_accuracy: 1.0000\n",
      "Epoch 74/100\n",
      "80/80 [==============================] - 0s 3ms/step - loss: 0.3181 - accuracy: 0.8602 - val_loss: 0.1500 - val_accuracy: 1.0000\n",
      "Epoch 75/100\n",
      "80/80 [==============================] - 0s 3ms/step - loss: 0.2817 - accuracy: 0.8933 - val_loss: 0.1617 - val_accuracy: 1.0000\n",
      "Epoch 76/100\n",
      "80/80 [==============================] - 0s 3ms/step - loss: 0.3176 - accuracy: 0.8724 - val_loss: 0.1551 - val_accuracy: 1.0000\n",
      "Epoch 77/100\n",
      "80/80 [==============================] - 0s 3ms/step - loss: 0.3412 - accuracy: 0.8550 - val_loss: 0.1671 - val_accuracy: 1.0000\n",
      "Epoch 78/100\n",
      "80/80 [==============================] - 0s 3ms/step - loss: 0.3628 - accuracy: 0.8230 - val_loss: 0.1444 - val_accuracy: 0.9667\n",
      "Epoch 79/100\n",
      "80/80 [==============================] - 0s 4ms/step - loss: 0.3866 - accuracy: 0.8159 - val_loss: 0.1560 - val_accuracy: 1.0000\n",
      "Epoch 80/100\n",
      "80/80 [==============================] - 0s 4ms/step - loss: 0.3758 - accuracy: 0.8335 - val_loss: 0.1486 - val_accuracy: 1.0000\n",
      "Epoch 81/100\n",
      "80/80 [==============================] - 0s 4ms/step - loss: 0.4111 - accuracy: 0.8310 - val_loss: 0.1431 - val_accuracy: 1.0000\n",
      "Epoch 82/100\n",
      "80/80 [==============================] - 0s 4ms/step - loss: 0.3371 - accuracy: 0.8258 - val_loss: 0.1400 - val_accuracy: 0.9667\n",
      "Epoch 83/100\n",
      "80/80 [==============================] - 0s 4ms/step - loss: 0.3657 - accuracy: 0.8274 - val_loss: 0.1447 - val_accuracy: 1.0000\n",
      "Epoch 84/100\n",
      "80/80 [==============================] - 0s 4ms/step - loss: 0.3489 - accuracy: 0.8273 - val_loss: 0.1398 - val_accuracy: 0.9667\n",
      "Epoch 85/100\n",
      "80/80 [==============================] - 0s 4ms/step - loss: 0.3314 - accuracy: 0.8435 - val_loss: 0.1427 - val_accuracy: 0.9667\n",
      "Epoch 86/100\n",
      "80/80 [==============================] - 0s 4ms/step - loss: 0.2657 - accuracy: 0.9075 - val_loss: 0.1588 - val_accuracy: 1.0000\n",
      "Epoch 87/100\n",
      "80/80 [==============================] - 0s 4ms/step - loss: 0.3187 - accuracy: 0.8634 - val_loss: 0.1499 - val_accuracy: 0.9667\n",
      "Epoch 88/100\n",
      "80/80 [==============================] - 0s 4ms/step - loss: 0.3677 - accuracy: 0.8559 - val_loss: 0.1471 - val_accuracy: 1.0000\n",
      "Epoch 89/100\n",
      "80/80 [==============================] - 0s 3ms/step - loss: 0.3298 - accuracy: 0.8735 - val_loss: 0.1492 - val_accuracy: 1.0000\n",
      "Epoch 90/100\n",
      "80/80 [==============================] - 0s 4ms/step - loss: 0.3676 - accuracy: 0.8253 - val_loss: 0.1614 - val_accuracy: 1.0000\n",
      "Epoch 91/100\n",
      "80/80 [==============================] - 0s 4ms/step - loss: 0.3518 - accuracy: 0.8416 - val_loss: 0.1559 - val_accuracy: 1.0000\n",
      "Epoch 92/100\n",
      "80/80 [==============================] - 0s 4ms/step - loss: 0.2764 - accuracy: 0.8689 - val_loss: 0.1683 - val_accuracy: 0.9667\n",
      "Epoch 93/100\n",
      "80/80 [==============================] - 0s 4ms/step - loss: 0.3088 - accuracy: 0.8589 - val_loss: 0.1482 - val_accuracy: 0.9667\n",
      "Epoch 94/100\n",
      "80/80 [==============================] - 0s 4ms/step - loss: 0.3438 - accuracy: 0.8427 - val_loss: 0.1559 - val_accuracy: 1.0000\n",
      "Epoch 95/100\n",
      "80/80 [==============================] - 0s 4ms/step - loss: 0.4201 - accuracy: 0.8012 - val_loss: 0.1392 - val_accuracy: 0.9667\n",
      "Epoch 96/100\n",
      "80/80 [==============================] - 0s 3ms/step - loss: 0.3812 - accuracy: 0.8350 - val_loss: 0.1479 - val_accuracy: 1.0000\n",
      "Epoch 97/100\n",
      "80/80 [==============================] - 0s 3ms/step - loss: 0.3478 - accuracy: 0.8536 - val_loss: 0.1457 - val_accuracy: 0.9667\n",
      "Epoch 98/100\n",
      "80/80 [==============================] - 0s 3ms/step - loss: 0.3390 - accuracy: 0.8560 - val_loss: 0.1418 - val_accuracy: 0.9667\n",
      "Epoch 99/100\n",
      "80/80 [==============================] - 0s 3ms/step - loss: 0.3417 - accuracy: 0.8537 - val_loss: 0.1533 - val_accuracy: 1.0000\n",
      "Epoch 100/100\n",
      "80/80 [==============================] - 0s 3ms/step - loss: 0.2812 - accuracy: 0.8838 - val_loss: 0.1725 - val_accuracy: 1.0000\n",
      "1/1 [==============================] - 0s 343ms/step - loss: 0.4226 - accuracy: 0.8000\n"
     ]
    },
    {
     "data": {
      "image/png": "[encoded data removed]",
      "text/plain": [
       "<Figure size 432x288 with 1 Axes>"
      ]
     },
     "metadata": {
      "needs_background": "light"
     },
     "output_type": "display_data"
    },
    {
     "ename": "KeyError",
     "evalue": "'val_acc'",
     "output_type": "error",
     "traceback": [
      "\u001b[1;31m---------------------------------------------------------------------------\u001b[0m",
      "\u001b[1;31mKeyError\u001b[0m                                  Traceback (most recent call last)",
      "\u001b[1;32m<ipython-input-31-041ccd2f40f5>\u001b[0m in \u001b[0;36m<module>\u001b[1;34m\u001b[0m\n\u001b[0;32m     37\u001b[0m \u001b[1;33m\u001b[0m\u001b[0m\n\u001b[0;32m     38\u001b[0m \u001b[0mplt\u001b[0m\u001b[1;33m.\u001b[0m\u001b[0mplot\u001b[0m\u001b[1;33m(\u001b[0m\u001b[0mhist\u001b[0m\u001b[1;33m.\u001b[0m\u001b[0mhistory\u001b[0m\u001b[1;33m[\u001b[0m\u001b[1;34m'accuracy'\u001b[0m\u001b[1;33m]\u001b[0m\u001b[1;33m)\u001b[0m\u001b[1;33m\u001b[0m\u001b[1;33m\u001b[0m\u001b[0m\n\u001b[1;32m---> 39\u001b[1;33m \u001b[0mplt\u001b[0m\u001b[1;33m.\u001b[0m\u001b[0mplot\u001b[0m\u001b[1;33m(\u001b[0m\u001b[0mhist\u001b[0m\u001b[1;33m.\u001b[0m\u001b[0mhistory\u001b[0m\u001b[1;33m[\u001b[0m\u001b[1;34m'val_acc'\u001b[0m\u001b[1;33m]\u001b[0m\u001b[1;33m)\u001b[0m\u001b[1;33m\u001b[0m\u001b[1;33m\u001b[0m\u001b[0m\n\u001b[0m\u001b[0;32m     40\u001b[0m \u001b[0mplt\u001b[0m\u001b[1;33m.\u001b[0m\u001b[0mtitle\u001b[0m\u001b[1;33m(\u001b[0m\u001b[1;34m'Model Accuracy'\u001b[0m\u001b[1;33m)\u001b[0m\u001b[1;33m\u001b[0m\u001b[1;33m\u001b[0m\u001b[0m\n\u001b[0;32m     41\u001b[0m \u001b[0mplt\u001b[0m\u001b[1;33m.\u001b[0m\u001b[0mylabel\u001b[0m\u001b[1;33m(\u001b[0m\u001b[1;34m'accuracy'\u001b[0m\u001b[1;33m)\u001b[0m\u001b[1;33m\u001b[0m\u001b[1;33m\u001b[0m\u001b[0m\n",
      "\u001b[1;31mKeyError\u001b[0m: 'val_acc'"
     ]
    },
    {
     "data": {
      "image/png": "[encoded data removed]",
      "text/plain": [
       "<Figure size 432x288 with 1 Axes>"
      ]
     },
     "metadata": {
      "needs_background": "light"
     },
     "output_type": "display_data"
    }
   ],
   "source": [
    "import pandas as pd\n",
    "import matplotlib.pyplot as plt\n",
    "import tensorflow\n",
    "from sklearn.model_selection import train_test_split\n",
    "from sklearn import preprocessing\n",
    "from keras.models import Sequential\n",
    "from keras.layers import Dense\n",
    "\n",
    "df_hf = pd.read_csv('heartfail.csv')\n",
    "Features = ['time','ejection_fraction','serum_creatinine', 'age', 'anaemia', 'high_blood_pressure']\n",
    "x = df_hf[Features].values\n",
    "y = df_hf['DEATH_EVENT'].values\n",
    "\n",
    "min_max_scaler = preprocessing.MinMaxScaler()\n",
    "x_scale = min_max_scaler.fit_transform(x)\n",
    "\n",
    "x_train, x_tot, y_train, y_tot = train_test_split(x_scale, y, test_size=0.2, random_state=1)\n",
    "x_val, x_test, y_val, y_test = train_test_split(x_tot, y_tot, test_size=0.5, random_state=0)\n",
    "\n",
    "model = Sequential([Dense(10, activation='relu', input_shape=(6,)), \n",
    "                    Dense(10, activation='relu'), \n",
    "                    Dense(10, activation='relu'), \n",
    "                    Dense(1, activation='sigmoid'),])\n",
    "\n",
    "model.compile(optimizer='adam', loss='binary_crossentropy', metrics=['accuracy'])\n",
    "\n",
    "hist = model.fit(x_train, y_train, batch_size=3, epochs=100, validation_data=(x_val, y_val))\n",
    "model.evaluate(x_test, y_test)[1]\n",
    "\n",
    "plt.plot(hist.history['loss'])\n",
    "plt.plot(hist.history['val_loss'])\n",
    "plt.title('Model Loss')\n",
    "plt.ylabel('loss')\n",
    "plt.xlabel('Epoch')\n",
    "plt.legend(['Train', 'Val'], loc='lower right')\n",
    "plt.show()\n",
    "\n",
    "plt.plot(hist.history['accuracy'])\n",
    "plt.plot(hist.history['val_acc'])\n",
    "plt.title('Model Accuracy')\n",
    "plt.ylabel('accuracy')\n",
    "plt.xlabel('Epoch')\n",
    "plt.legend(['Train', 'Val'], loc='lower right')\n",
    "plt.show()"
   ]
  },
  {
   "cell_type": "code",
   "execution_count": 8,
   "metadata": {},
   "outputs": [
    {
     "name": "stdout",
     "output_type": "stream",
     "text": [
      "Collecting TensorFlow\n",
      "  Using cached tensorflow-2.4.1-cp38-cp38-win_amd64.whl (370.7 MB)\n",
      "Collecting google-pasta~=0.2\n",
      "  Using cached google_pasta-0.2.0-py3-none-any.whl (57 kB)\n",
      "Requirement already satisfied: six~=1.15.0 in c:\\users\\asus series\\appdata\\roaming\\python\\python38\\site-packages (from TensorFlow) (1.15.0)\n",
      "Collecting tensorboard~=2.4\n",
      "  Using cached tensorboard-2.4.1-py3-none-any.whl (10.6 MB)\n",
      "Requirement already satisfied: numpy~=1.19.2 in c:\\users\\asus series\\anaconda3\\lib\\site-packages (from TensorFlow) (1.19.2)\n",
      "Collecting termcolor~=1.1.0\n",
      "  Using cached termcolor-1.1.0.tar.gz (3.9 kB)\n",
      "Collecting tensorflow-estimator<2.5.0,>=2.4.0\n",
      "  Using cached tensorflow_estimator-2.4.0-py2.py3-none-any.whl (462 kB)\n",
      "Requirement already satisfied: h5py~=2.10.0 in c:\\users\\asus series\\anaconda3\\lib\\site-packages (from TensorFlow) (2.10.0)\n",
      "Collecting keras-preprocessing~=1.1.2\n",
      "  Using cached Keras_Preprocessing-1.1.2-py2.py3-none-any.whl (42 kB)\n",
      "Requirement already satisfied: typing-extensions~=3.7.4 in c:\\users\\asus series\\anaconda3\\lib\\site-packages (from TensorFlow) (3.7.4.3)\n",
      "Collecting flatbuffers~=1.12.0\n",
      "  Using cached flatbuffers-1.12-py2.py3-none-any.whl (15 kB)\n",
      "Requirement already satisfied: wheel~=0.35 in c:\\users\\asus series\\anaconda3\\lib\\site-packages (from TensorFlow) (0.35.1)\n",
      "Collecting protobuf>=3.9.2\n",
      "  Using cached protobuf-3.15.5-py2.py3-none-any.whl (173 kB)\n",
      "Collecting opt-einsum~=3.3.0\n",
      "  Using cached opt_einsum-3.3.0-py3-none-any.whl (65 kB)\n",
      "Collecting absl-py~=0.10\n",
      "  Using cached absl_py-0.11.0-py3-none-any.whl (127 kB)\n",
      "Collecting astunparse~=1.6.3\n",
      "  Using cached astunparse-1.6.3-py2.py3-none-any.whl (12 kB)\n",
      "Collecting grpcio~=1.32.0\n",
      "  Using cached grpcio-1.32.0-cp38-cp38-win_amd64.whl (2.6 MB)\n",
      "Collecting gast==0.3.3\n",
      "  Using cached gast-0.3.3-py2.py3-none-any.whl (9.7 kB)\n",
      "Requirement already satisfied: wrapt~=1.12.1 in c:\\users\\asus series\\appdata\\roaming\\python\\python38\\site-packages (from TensorFlow) (1.12.1)\n",
      "Requirement already satisfied: requests<3,>=2.21.0 in c:\\users\\asus series\\anaconda3\\lib\\site-packages (from tensorboard~=2.4->TensorFlow) (2.24.0)\n",
      "Collecting google-auth<2,>=1.6.3\n",
      "  Using cached google_auth-1.27.1-py2.py3-none-any.whl (136 kB)\n",
      "Collecting google-auth-oauthlib<0.5,>=0.4.1\n",
      "  Using cached google_auth_oauthlib-0.4.3-py2.py3-none-any.whl (18 kB)\n",
      "Collecting tensorboard-plugin-wit>=1.6.0\n",
      "  Using cached tensorboard_plugin_wit-1.8.0-py3-none-any.whl (781 kB)\n",
      "Requirement already satisfied: werkzeug>=0.11.15 in c:\\users\\asus series\\anaconda3\\lib\\site-packages (from tensorboard~=2.4->TensorFlow) (1.0.1)\n",
      "Requirement already satisfied: setuptools>=41.0.0 in c:\\users\\asus series\\anaconda3\\lib\\site-packages (from tensorboard~=2.4->TensorFlow) (50.3.1.post20201107)\n",
      "Collecting markdown>=2.6.8\n",
      "  Using cached Markdown-3.3.4-py3-none-any.whl (97 kB)\n",
      "Requirement already satisfied: certifi>=2017.4.17 in c:\\users\\asus series\\anaconda3\\lib\\site-packages (from requests<3,>=2.21.0->tensorboard~=2.4->TensorFlow) (2020.6.20)\n",
      "Requirement already satisfied: chardet<4,>=3.0.2 in c:\\users\\asus series\\anaconda3\\lib\\site-packages (from requests<3,>=2.21.0->tensorboard~=2.4->TensorFlow) (3.0.4)\n",
      "Requirement already satisfied: urllib3!=1.25.0,!=1.25.1,<1.26,>=1.21.1 in c:\\users\\asus series\\anaconda3\\lib\\site-packages (from requests<3,>=2.21.0->tensorboard~=2.4->TensorFlow) (1.25.11)\n",
      "Requirement already satisfied: idna<3,>=2.5 in c:\\users\\asus series\\anaconda3\\lib\\site-packages (from requests<3,>=2.21.0->tensorboard~=2.4->TensorFlow) (2.10)\n",
      "Collecting cachetools<5.0,>=2.0.0\n",
      "  Using cached cachetools-4.2.1-py3-none-any.whl (12 kB)\n",
      "Collecting rsa<5,>=3.1.4; python_version >= \"3.6\"\n",
      "  Using cached rsa-4.7.2-py3-none-any.whl (34 kB)\n",
      "Collecting pyasn1-modules>=0.2.1\n",
      "  Using cached pyasn1_modules-0.2.8-py2.py3-none-any.whl (155 kB)\n",
      "Collecting requests-oauthlib>=0.7.0\n",
      "  Using cached requests_oauthlib-1.3.0-py2.py3-none-any.whl (23 kB)\n",
      "Collecting pyasn1>=0.1.3\n",
      "  Using cached pyasn1-0.4.8-py2.py3-none-any.whl (77 kB)\n",
      "Collecting oauthlib>=3.0.0\n",
      "  Using cached oauthlib-3.1.0-py2.py3-none-any.whl (147 kB)\n",
      "Building wheels for collected packages: termcolor\n",
      "  Building wheel for termcolor (setup.py): started\n",
      "  Building wheel for termcolor (setup.py): finished with status 'done'\n",
      "  Created wheel for termcolor: filename=termcolor-1.1.0-py3-none-any.whl size=4835 sha256=ff458650116dcbe4378e62e1a186a9dabe464e876d60f37914eeb646ab138114\n",
      "  Stored in directory: c:\\users\\asus series\\appdata\\local\\pip\\cache\\wheels\\a0\\16\\9c\\5473df82468f958445479c59e784896fa24f4a5fc024b0f501\n",
      "Successfully built termcolor\n",
      "Installing collected packages: google-pasta, protobuf, cachetools, pyasn1, rsa, pyasn1-modules, google-auth, oauthlib, requests-oauthlib, google-auth-oauthlib, tensorboard-plugin-wit, absl-py, grpcio, markdown, tensorboard, termcolor, tensorflow-estimator, keras-preprocessing, flatbuffers, opt-einsum, astunparse, gast, TensorFlow\n",
      "Successfully installed TensorFlow-2.4.1 absl-py-0.11.0 astunparse-1.6.3 cachetools-4.2.1 flatbuffers-1.12 gast-0.3.3 google-auth-1.27.1 google-auth-oauthlib-0.4.3 google-pasta-0.2.0 grpcio-1.32.0 keras-preprocessing-1.1.2 markdown-3.3.4 oauthlib-3.1.0 opt-einsum-3.3.0 protobuf-3.15.5 pyasn1-0.4.8 pyasn1-modules-0.2.8 requests-oauthlib-1.3.0 rsa-4.7.2 tensorboard-2.4.1 tensorboard-plugin-wit-1.8.0 tensorflow-estimator-2.4.0 termcolor-1.1.0\n"
     ]
    }
   ],
   "source": [
    "!pip install TensorFlow"
   ]
  },
  {
   "cell_type": "code",
   "execution_count": null,
   "metadata": {},
   "outputs": [],
   "source": [
    "Features = ['time','ejection_fraction','serum_creatinine', 'age', 'anaemia', 'high_blood_pressure']\n",
    "x = df_HF[Features].values\n",
    "y = df_HF[\"DEATH_EVENT\"].values"
   ]
  },
  {
   "cell_type": "code",
   "execution_count": null,
   "metadata": {},
   "outputs": [],
   "source": [
    "from sklearn import preprocessing"
   ]
  },
  {
   "cell_type": "code",
   "execution_count": null,
   "metadata": {},
   "outputs": [],
   "source": [
    "min_max_scaler = preprocessing.MinMaxScaler()\n",
    "x_scale = min_max_scaler.fit_transform(x)"
   ]
  },
  {
   "cell_type": "code",
   "execution_count": null,
   "metadata": {},
   "outputs": [],
   "source": [
    "x_train, x_tot, y_train, y_tot = train_test_split(x_scale, y, test_size=0.2, random_state=1)"
   ]
  },
  {
   "cell_type": "code",
   "execution_count": null,
   "metadata": {},
   "outputs": [],
   "source": [
    "x_val, x_test, y_val, y_test =  train_test_split(x_tot, y_tot, test_size = 0.5, random_state=0)"
   ]
  },
  {
   "cell_type": "code",
   "execution_count": null,
   "metadata": {
    "scrolled": true
   },
   "outputs": [],
   "source": [
    "from keras.models import Sequential\n",
    "from keras.layers import Dense"
   ]
  },
  {
   "cell_type": "code",
   "execution_count": null,
   "metadata": {},
   "outputs": [],
   "source": [
    "model = Sequential([Dense(10, activation='relu', input_shape=(6,)), \n",
    "                    Dense(10, activation='relu'), \n",
    "                    Dense(10, activation='relu'), \n",
    "                    Dense(1, activation='sigmoid'),])"
   ]
  },
  {
   "cell_type": "code",
   "execution_count": null,
   "metadata": {},
   "outputs": [],
   "source": [
    "model.compile(optimizer='adam', loss='binary_crossentropy', metrics=['accuracy'])"
   ]
  },
  {
   "cell_type": "code",
   "execution_count": null,
   "metadata": {
    "scrolled": true
   },
   "outputs": [],
   "source": [
    "hist = model.fit(x_train, y_train, batch_size=3, epochs=100, validation_data=(x_val, y_val))"
   ]
  },
  {
   "cell_type": "code",
   "execution_count": null,
   "metadata": {},
   "outputs": [],
   "source": [
    "model.evaluate(x_test, y_test)[1]"
   ]
  },
  {
   "cell_type": "code",
   "execution_count": null,
   "metadata": {},
   "outputs": [],
   "source": [
    "plt.plot(hist.history['loss'])\n",
    "plt.plot(hist.history['val_loss'])\n",
    "plt.title('Model Loss')\n",
    "plt.ylabel('loss')\n",
    "plt.xlabel('Epoch')\n",
    "plt.legend(['Train', 'Val'], loc='lower right')\n",
    "plt.show()"
   ]
  },
  {
   "cell_type": "code",
   "execution_count": null,
   "metadata": {},
   "outputs": [],
   "source": [
    "plt.plot(hist.history['acc'])\n",
    "plt.plot(hist.history['val_acc'])\n",
    "plt.title('Model Accuracy')\n",
    "plt.ylabel('accuracy')\n",
    "plt.xlabel('Epoch')\n",
    "plt.legend(['Train', 'Val'], loc='lower right')\n",
    "plt.show()"
   ]
  },
  {
   "cell_type": "code",
   "execution_count": null,
   "metadata": {},
   "outputs": [],
   "source": []
  }
 ],
 "metadata": {
  "kernelspec": {
   "display_name": "Python 3",
   "language": "python",
   "name": "python3"
  },
  "language_info": {
   "codemirror_mode": {
    "name": "ipython",
    "version": 3
   },
   "file_extension": ".py",
   "mimetype": "text/x-python",
   "name": "python",
   "nbconvert_exporter": "python",
   "pygments_lexer": "ipython3",
   "version": "3.8.5"
  }
 },
 "nbformat": 4,
 "nbformat_minor": 2
}
