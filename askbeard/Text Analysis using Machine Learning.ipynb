{
 "cells": [
  {
   "cell_type": "code",
   "execution_count": 1,
   "metadata": {},
   "outputs": [],
   "source": [
    "import pandas as pd"
   ]
  },
  {
   "cell_type": "code",
   "execution_count": 2,
   "metadata": {},
   "outputs": [],
   "source": [
    "filepath_dict = {'yelp': 'yelp_labelled.txt', 'amazon': 'amazon_cells_labelled.txt', 'imdb': 'imdb_labelled.txt'}\n"
   ]
  },
  {
   "cell_type": "code",
   "execution_count": 3,
   "metadata": {},
   "outputs": [],
   "source": [
    "df_list = []\n",
    "for source, filepath in filepath_dict.items():\n",
    "    df = pd.read_csv(filepath, names=['sentence', 'label'], sep='\\t')\n",
    "    df['source'] = source\n",
    "    df_list.append(df)\n",
    "df = pd.concat(df_list)"
   ]
  },
  {
   "cell_type": "code",
   "execution_count": 4,
   "metadata": {},
   "outputs": [
    {
     "data": {
      "text/html": [
       "<div>\n",
       "<style scoped>\n",
       "    .dataframe tbody tr th:only-of-type {\n",
       "        vertical-align: middle;\n",
       "    }\n",
       "\n",
       "    .dataframe tbody tr th {\n",
       "        vertical-align: top;\n",
       "    }\n",
       "\n",
       "    .dataframe thead th {\n",
       "        text-align: right;\n",
       "    }\n",
       "</style>\n",
       "<table border=\"1\" class=\"dataframe\">\n",
       "  <thead>\n",
       "    <tr style=\"text-align: right;\">\n",
       "      <th></th>\n",
       "      <th>sentence</th>\n",
       "      <th>label</th>\n",
       "      <th>source</th>\n",
       "    </tr>\n",
       "  </thead>\n",
       "  <tbody>\n",
       "    <tr>\n",
       "      <th>0</th>\n",
       "      <td>Wow... Loved this place.</td>\n",
       "      <td>1</td>\n",
       "      <td>yelp</td>\n",
       "    </tr>\n",
       "    <tr>\n",
       "      <th>1</th>\n",
       "      <td>Crust is not good.</td>\n",
       "      <td>0</td>\n",
       "      <td>yelp</td>\n",
       "    </tr>\n",
       "    <tr>\n",
       "      <th>2</th>\n",
       "      <td>Not tasty and the texture was just nasty.</td>\n",
       "      <td>0</td>\n",
       "      <td>yelp</td>\n",
       "    </tr>\n",
       "    <tr>\n",
       "      <th>3</th>\n",
       "      <td>Stopped by during the late May bank holiday of...</td>\n",
       "      <td>1</td>\n",
       "      <td>yelp</td>\n",
       "    </tr>\n",
       "    <tr>\n",
       "      <th>4</th>\n",
       "      <td>The selection on the menu was great and so wer...</td>\n",
       "      <td>1</td>\n",
       "      <td>yelp</td>\n",
       "    </tr>\n",
       "  </tbody>\n",
       "</table>\n",
       "</div>"
      ],
      "text/plain": [
       "                                            sentence  label source\n",
       "0                           Wow... Loved this place.      1   yelp\n",
       "1                                 Crust is not good.      0   yelp\n",
       "2          Not tasty and the texture was just nasty.      0   yelp\n",
       "3  Stopped by during the late May bank holiday of...      1   yelp\n",
       "4  The selection on the menu was great and so wer...      1   yelp"
      ]
     },
     "execution_count": 4,
     "metadata": {},
     "output_type": "execute_result"
    }
   ],
   "source": [
    "df.head()"
   ]
  },
  {
   "cell_type": "code",
   "execution_count": 5,
   "metadata": {},
   "outputs": [
    {
     "data": {
      "text/plain": [
       "[                                              sentence  label source\n",
       " 0                             Wow... Loved this place.      1   yelp\n",
       " 1                                   Crust is not good.      0   yelp\n",
       " 2            Not tasty and the texture was just nasty.      0   yelp\n",
       " 3    Stopped by during the late May bank holiday of...      1   yelp\n",
       " 4    The selection on the menu was great and so wer...      1   yelp\n",
       " 5       Now I am getting angry and I want my damn pho.      0   yelp\n",
       " 6                Honeslty it didn't taste THAT fresh.)      0   yelp\n",
       " 7    The potatoes were like rubber and you could te...      0   yelp\n",
       " 8                            The fries were great too.      1   yelp\n",
       " 9                                       A great touch.      1   yelp\n",
       " 10                            Service was very prompt.      1   yelp\n",
       " 11                                  Would not go back.      0   yelp\n",
       " 12   The cashier had no care what so ever on what I...      0   yelp\n",
       " 13   I tried the Cape Cod ravoli, chicken,with cran...      1   yelp\n",
       " 14   I was disgusted because I was pretty sure that...      0   yelp\n",
       " 15   I was shocked because no signs indicate cash o...      0   yelp\n",
       " 16                                 Highly recommended.      1   yelp\n",
       " 17              Waitress was a little slow in service.      0   yelp\n",
       " 18   This place is not worth your time, let alone V...      0   yelp\n",
       " 19                                did not like at all.      0   yelp\n",
       " 20                                 The Burrittos Blah!      0   yelp\n",
       " 21                                  The food, amazing.      1   yelp\n",
       " 22                               Service is also cute.      1   yelp\n",
       " 23   I could care less... The interior is just beau...      1   yelp\n",
       " 24                                  So they performed.      1   yelp\n",
       " 25   That's right....the red velvet cake.....ohhh t...      1   yelp\n",
       " 26          - They never brought a salad we asked for.      0   yelp\n",
       " 27   This hole in the wall has great Mexican street...      1   yelp\n",
       " 28   Took an hour to get our food only 4 tables in ...      0   yelp\n",
       " 29                   The worst was the salmon sashimi.      0   yelp\n",
       " ..                                                 ...    ...    ...\n",
       " 970  I immediately said I wanted to talk to the man...      0   yelp\n",
       " 971                    The ambiance isn't much better.      0   yelp\n",
       " 972  Unfortunately, it only set us up for disapppoi...      0   yelp\n",
       " 973                              The food wasn't good.      0   yelp\n",
       " 974  Your servers suck, wait, correction, our serve...      0   yelp\n",
       " 975      What happened next was pretty....off putting.      0   yelp\n",
       " 976  too bad cause I know it's family owned, I real...      0   yelp\n",
       " 977               Overpriced for what you are getting.      0   yelp\n",
       " 978               I vomited in the bathroom mid lunch.      0   yelp\n",
       " 979  I kept looking at the time and it had soon bec...      0   yelp\n",
       " 980  I have been to very few places to eat that und...      0   yelp\n",
       " 981  We started with the tuna sashimi which was bro...      0   yelp\n",
       " 982                            Food was below average.      0   yelp\n",
       " 983  It sure does beat the nachos at the movies but...      0   yelp\n",
       " 984       All in all, Ha Long Bay was a bit of a flop.      0   yelp\n",
       " 985  The problem I have is that they charge $11.99 ...      0   yelp\n",
       " 986  Shrimp- When I unwrapped it (I live only 1/2 a...      0   yelp\n",
       " 987     It lacked flavor, seemed undercooked, and dry.      0   yelp\n",
       " 988  It really is impressive that the place hasn't ...      0   yelp\n",
       " 989  I would avoid this place if you are staying in...      0   yelp\n",
       " 990  The refried beans that came with my meal were ...      0   yelp\n",
       " 991         Spend your money and time some place else.      0   yelp\n",
       " 992  A lady at the table next to us found a live gr...      0   yelp\n",
       " 993            the presentation of the food was awful.      0   yelp\n",
       " 994           I can't tell you how disappointed I was.      0   yelp\n",
       " 995  I think food should have flavor and texture an...      0   yelp\n",
       " 996                           Appetite instantly gone.      0   yelp\n",
       " 997  Overall I was not impressed and would not go b...      0   yelp\n",
       " 998  The whole experience was underwhelming, and I ...      0   yelp\n",
       " 999  Then, as if I hadn't wasted enough of my life ...      0   yelp\n",
       " \n",
       " [1000 rows x 3 columns],\n",
       "                                               sentence  label  source\n",
       " 0    So there is no way for me to plug it in here i...      0  amazon\n",
       " 1                          Good case, Excellent value.      1  amazon\n",
       " 2                               Great for the jawbone.      1  amazon\n",
       " 3    Tied to charger for conversations lasting more...      0  amazon\n",
       " 4                                    The mic is great.      1  amazon\n",
       " 5    I have to jiggle the plug to get it to line up...      0  amazon\n",
       " 6    If you have several dozen or several hundred c...      0  amazon\n",
       " 7          If you are Razr owner...you must have this!      1  amazon\n",
       " 8                  Needless to say, I wasted my money.      0  amazon\n",
       " 9                     What a waste of money and time!.      0  amazon\n",
       " 10                     And the sound quality is great.      1  amazon\n",
       " 11   He was very impressed when going from the orig...      1  amazon\n",
       " 12   If the two were seperated by a mere 5+ ft I st...      0  amazon\n",
       " 13                            Very good quality though      1  amazon\n",
       " 14   The design is very odd, as the ear \"clip\" is n...      0  amazon\n",
       " 15   Highly recommend for any one who has a blue to...      1  amazon\n",
       " 16                 I advise EVERYONE DO NOT BE FOOLED!      0  amazon\n",
       " 17                                    So Far So Good!.      1  amazon\n",
       " 18                                       Works great!.      1  amazon\n",
       " 19   It clicks into place in a way that makes you w...      0  amazon\n",
       " 20   I went on Motorola's website and followed all ...      0  amazon\n",
       " 21   I bought this to use with my Kindle Fire and a...      1  amazon\n",
       " 22            The commercials are the most misleading.      0  amazon\n",
       " 23   I have yet to run this new battery below two b...      1  amazon\n",
       " 24   I bought it for my mother and she had a proble...      0  amazon\n",
       " 25                Great Pocket PC / phone combination.      1  amazon\n",
       " 26   I've owned this phone for 7 months now and can...      1  amazon\n",
       " 27   I didn't think that the instructions provided ...      0  amazon\n",
       " 28   People couldnt hear me talk and I had to pull ...      0  amazon\n",
       " 29                                Doesn't hold charge.      0  amazon\n",
       " ..                                                 ...    ...     ...\n",
       " 970  I plugged it in only to find out not a darn th...      0  amazon\n",
       " 971                                 Excellent product.      1  amazon\n",
       " 972                        Earbud piece breaks easily.      0  amazon\n",
       " 973                                     Lousy product.      0  amazon\n",
       " 974  This phone tries very hard to do everything bu...      0  amazon\n",
       " 975  It is the best charger I have seen on the mark...      1  amazon\n",
       " 976                                  SWEETEST PHONE!!!      1  amazon\n",
       " 977             :-)Oh, the charger seems to work fine.      1  amazon\n",
       " 978  It fits so securely that the ear hook does not...      1  amazon\n",
       " 979                                 Not enough volume.      0  amazon\n",
       " 980                Echo Problem....Very unsatisfactory      0  amazon\n",
       " 981  you could only take 2 videos at a time and the...      0  amazon\n",
       " 982                            don't waste your money.      0  amazon\n",
       " 983  I am going to have to be the first to negative...      0  amazon\n",
       " 984  Adapter does not provide enough charging current.      0  amazon\n",
       " 985  There was so much hype over this phone that I ...      0  amazon\n",
       " 986  You also cannot take pictures with it in the c...      0  amazon\n",
       " 987                            Phone falls out easily.      0  amazon\n",
       " 988  It didn't work, people can not hear me when I ...      0  amazon\n",
       " 989  The text messaging feature is really tricky to...      0  amazon\n",
       " 990  I'm really disappointed all I have now is a ch...      0  amazon\n",
       " 991                                Painful on the ear.      0  amazon\n",
       " 992                   Lasted one day and then blew up.      0  amazon\n",
       " 993                                      disappointed.      0  amazon\n",
       " 994                              Kind of flops around.      0  amazon\n",
       " 995  The screen does get smudged easily because it ...      0  amazon\n",
       " 996  What a piece of junk.. I lose more calls on th...      0  amazon\n",
       " 997                       Item Does Not Match Picture.      0  amazon\n",
       " 998  The only thing that disappoint me is the infra...      0  amazon\n",
       " 999  You can not answer calls with the unit, never ...      0  amazon\n",
       " \n",
       " [1000 rows x 3 columns],\n",
       "                                               sentence  label source\n",
       " 0    A very, very, very slow-moving, aimless movie ...      0   imdb\n",
       " 1    Not sure who was more lost - the flat characte...      0   imdb\n",
       " 2    Attempting artiness with black & white and cle...      0   imdb\n",
       " 3         Very little music or anything to speak of.        0   imdb\n",
       " 4    The best scene in the movie was when Gerardo i...      1   imdb\n",
       " 5    The rest of the movie lacks art, charm, meanin...      0   imdb\n",
       " 6                                  Wasted two hours.        0   imdb\n",
       " 7    Saw the movie today and thought it was a good ...      1   imdb\n",
       " 8                                 A bit predictable.        0   imdb\n",
       " 9    Loved the casting of Jimmy Buffet as the scien...      1   imdb\n",
       " 10                And those baby owls were adorable.        1   imdb\n",
       " 11   The movie showed a lot of Florida at it's best...      1   imdb\n",
       " 12   The Songs Were The Best And The Muppets Were S...      1   imdb\n",
       " 13                                   It Was So Cool.        1   imdb\n",
       " 14   This is a very \"right on case\" movie that deli...      1   imdb\n",
       " 15   It had some average acting from the main perso...      0   imdb\n",
       " 16   This review is long overdue, since I consider ...      1   imdb\n",
       " 17   I'll put this gem up against any movie in term...      1   imdb\n",
       " 18   It's practically perfect in all of them  a tr...      1   imdb\n",
       " 19    The structure of this film is easily the most...      0   imdb\n",
       " 20   This if the first movie I've given a 10 to in ...      1   imdb\n",
       " 21   If there was ever a movie that needed word-of-...      1   imdb\n",
       " 22   Overall, the film is interesting and thought-p...      1   imdb\n",
       " 23   Plus, it was well-paced and suited its relativ...      1   imdb\n",
       " 24                             Give this one a look.        1   imdb\n",
       " 25                                    I gave it a 10        1   imdb\n",
       " 26   The Wind and the Lion is well written and supe...      1   imdb\n",
       " 27                             It is a true classic.        1   imdb\n",
       " 28   It actually turned out to be pretty decent as ...      1   imdb\n",
       " 29                    Definitely worth checking out.        1   imdb\n",
       " ..                                                 ...    ...    ...\n",
       " 718  Enough can not be said of the remarkable anima...      1   imdb\n",
       " 719  The art style has the appearance of crayon/pen...      1   imdb\n",
       " 720  If you act in such a film, you should be glad ...      0   imdb\n",
       " 721  This one wants to surf on the small wave of sp...      0   imdb\n",
       " 722  If you haven't choked in your own vomit by the...      0   imdb\n",
       " 723  Still, it makes up for all of this with a supe...      1   imdb\n",
       " 724  Just consider the excellent story, solid actin...      1   imdb\n",
       " 725  Instead, we got a bore fest about a whiny, spo...      0   imdb\n",
       " 726  Then I watched it again two Sundays ago (March...      1   imdb\n",
       " 727       It is a very well acted and done TV Movie.        1   imdb\n",
       " 728  Judith Light is one of my favorite actresses a...      1   imdb\n",
       " 729                I keep watching it over and over.        1   imdb\n",
       " 730                 It's a sad movie, but very good.        1   imdb\n",
       " 731  If you have not seen this movie, I definitely ...      1   imdb\n",
       " 732           She is as lovely as usual, this cutie!        1   imdb\n",
       " 733  Still it's quite interesting and entertaining ...      1   imdb\n",
       " 734                    ;) Recommend with confidence!        1   imdb\n",
       " 735  This movie is well-balanced with comedy and dr...      1   imdb\n",
       " 736  It was a riot to see Hugo Weaving play a sex-o...      1   imdb\n",
       " 737  :) Anyway, the plot flowed smoothly and the ma...      1   imdb\n",
       " 738  The opening sequence of this gem is a classic,...      1   imdb\n",
       " 739             Fans of the genre will be in heaven.        1   imdb\n",
       " 740                Lange had become a great actress.        1   imdb\n",
       " 741                It looked like a wonderful story.        1   imdb\n",
       " 742            I never walked out of a movie faster.        0   imdb\n",
       " 743  I just got bored watching Jessice Lange take h...      0   imdb\n",
       " 744  Unfortunately, any virtue in this film's produ...      0   imdb\n",
       " 745                   In a word, it is embarrassing.        0   imdb\n",
       " 746                               Exceptionally bad!        0   imdb\n",
       " 747  All in all its an insult to one's intelligence...      0   imdb\n",
       " \n",
       " [748 rows x 3 columns]]"
      ]
     },
     "execution_count": 5,
     "metadata": {},
     "output_type": "execute_result"
    }
   ],
   "source": [
    "df_list"
   ]
  },
  {
   "cell_type": "code",
   "execution_count": 6,
   "metadata": {},
   "outputs": [],
   "source": [
    "from sklearn.model_selection import train_test_split"
   ]
  },
  {
   "cell_type": "code",
   "execution_count": 7,
   "metadata": {},
   "outputs": [],
   "source": [
    "x = df['sentence'].values\n",
    "y = df['label'].values"
   ]
  },
  {
   "cell_type": "code",
   "execution_count": 8,
   "metadata": {},
   "outputs": [],
   "source": [
    "x_train, x_test, y_train, y_test = train_test_split(x, y, test_size=0.25, random_state=1000)"
   ]
  },
  {
   "cell_type": "code",
   "execution_count": 9,
   "metadata": {},
   "outputs": [],
   "source": [
    "from sklearn.feature_extraction.text import CountVectorizer"
   ]
  },
  {
   "cell_type": "code",
   "execution_count": 10,
   "metadata": {},
   "outputs": [],
   "source": [
    "vectorizer = CountVectorizer()"
   ]
  },
  {
   "cell_type": "code",
   "execution_count": 11,
   "metadata": {},
   "outputs": [
    {
     "data": {
      "text/plain": [
       "CountVectorizer()"
      ]
     },
     "execution_count": 11,
     "metadata": {},
     "output_type": "execute_result"
    }
   ],
   "source": [
    "vectorizer.fit(x_train)"
   ]
  },
  {
   "cell_type": "code",
   "execution_count": 12,
   "metadata": {},
   "outputs": [],
   "source": [
    "X_train = vectorizer.transform(x_train)\n",
    "X_test = vectorizer.transform(x_test)"
   ]
  },
  {
   "cell_type": "code",
   "execution_count": 13,
   "metadata": {},
   "outputs": [
    {
     "data": {
      "text/plain": [
       "<2061x4506 sparse matrix of type '<class 'numpy.int64'>'\n",
       "\twith 23280 stored elements in Compressed Sparse Row format>"
      ]
     },
     "execution_count": 13,
     "metadata": {},
     "output_type": "execute_result"
    }
   ],
   "source": [
    "X_train"
   ]
  },
  {
   "cell_type": "code",
   "execution_count": 14,
   "metadata": {},
   "outputs": [],
   "source": [
    "from sklearn.linear_model import LogisticRegression\n",
    "classifier = LogisticRegression()\n",
    "classifier.fit(X_train, y_train)\n",
    "score = classifier.score(X_test, y_test)"
   ]
  },
  {
   "cell_type": "code",
   "execution_count": 15,
   "metadata": {},
   "outputs": [
    {
     "data": {
      "text/plain": [
       "0.8195050946142649"
      ]
     },
     "execution_count": 15,
     "metadata": {},
     "output_type": "execute_result"
    }
   ],
   "source": [
    "score"
   ]
  },
  {
   "cell_type": "code",
   "execution_count": 17,
   "metadata": {},
   "outputs": [],
   "source": [
    "from sklearn.metrics import confusion_matrix, accuracy_score, plot_confusion_matrix"
   ]
  },
  {
   "cell_type": "code",
   "execution_count": null,
   "metadata": {},
   "outputs": [],
   "source": []
  }
 ],
 "metadata": {
  "kernelspec": {
   "display_name": "Python 3",
   "language": "python",
   "name": "python3"
  },
  "language_info": {
   "codemirror_mode": {
    "name": "ipython",
    "version": 3
   },
   "file_extension": ".py",
   "mimetype": "text/x-python",
   "name": "python",
   "nbconvert_exporter": "python",
   "pygments_lexer": "ipython3",
   "version": "3.8.5"
  }
 },
 "nbformat": 4,
 "nbformat_minor": 2
}
